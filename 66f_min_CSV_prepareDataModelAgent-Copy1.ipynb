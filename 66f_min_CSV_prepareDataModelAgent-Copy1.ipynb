{
 "cells": [
  {
   "cell_type": "markdown",
   "metadata": {},
   "source": [
    "# Prepare Data, Model, Agent"
   ]
  },
  {
   "cell_type": "markdown",
   "metadata": {},
   "source": [
    "# imports and setup"
   ]
  },
  {
   "cell_type": "code",
   "execution_count": 1,
   "metadata": {},
   "outputs": [],
   "source": [
    "# The following is needed in Jupyter labs for listing methods;\n",
    "\n",
    "# use dot then tab after object\n",
    "%config Completer.use_jedi = False"
   ]
  },
  {
   "cell_type": "markdown",
   "metadata": {},
   "source": [
    "### use tensorboard"
   ]
  },
  {
   "cell_type": "code",
   "execution_count": 2,
   "metadata": {},
   "outputs": [],
   "source": [
    "try:\n",
    "    import tensorboard\n",
    "except:\n",
    "    import pip\n",
    "    pip.main(['install', 'tensorboard'])\n",
    "    import tensorboard"
   ]
  },
  {
   "cell_type": "code",
   "execution_count": 3,
   "metadata": {
    "tags": []
   },
   "outputs": [],
   "source": [
    "%load_ext tensorboard"
   ]
  },
  {
   "cell_type": "code",
   "execution_count": 4,
   "metadata": {},
   "outputs": [
    {
     "name": "stderr",
     "output_type": "stream",
     "text": [
      "D:\\DProgramFiles\\Anaconda3\\envs\\KM-Trading\\lib\\site-packages\\numpy\\_distributor_init.py:30: UserWarning: loaded more than 1 DLL from .libs:\n",
      "D:\\DProgramFiles\\Anaconda3\\envs\\KM-Trading\\lib\\site-packages\\numpy\\.libs\\libopenblas.WCDJNK7YVMPZQ2ME2ZZHJJRJ3JIKNDB7.gfortran-win_amd64.dll\n",
      "D:\\DProgramFiles\\Anaconda3\\envs\\KM-Trading\\lib\\site-packages\\numpy\\.libs\\libopenblas.XWYDX2IKJW2NMTWSFYNGFUWKQU3LYTCZ.gfortran-win_amd64.dll\n",
      "  warnings.warn(\"loaded more than 1 DLL from .libs:\"\n"
     ]
    }
   ],
   "source": [
    "import os\n",
    "import time\n",
    "import numpy as np\n",
    "import pandas as pd\n",
    "from pprint import pprint\n",
    "%matplotlib inline\n",
    "from pylab import plt, mpl\n",
    "import pickle\n",
    "plt.style.use('seaborn')\n",
    "mpl.rcParams['savefig.dpi'] = 300\n",
    "mpl.rcParams['font.family'] = 'serif'\n",
    "pd.set_option('mode.chained_assignment', None)\n",
    "pd.set_option('display.float_format', '{:.5f}'.format)\n",
    "np.set_printoptions(suppress=True, precision=4)\n",
    "os.environ['PYTHONHASHSEED'] = '0'\n",
    "\n",
    "import datetime as datetime\n",
    "from datetime import date\n",
    "\n",
    "from pathlib import Path\n"
   ]
  },
  {
   "cell_type": "code",
   "execution_count": 5,
   "metadata": {},
   "outputs": [],
   "source": [
    "import warnings\n",
    "warnings.filterwarnings('ignore')"
   ]
  },
  {
   "cell_type": "code",
   "execution_count": 6,
   "metadata": {},
   "outputs": [],
   "source": [
    "# import tensorflow as tf"
   ]
  },
  {
   "cell_type": "code",
   "execution_count": 7,
   "metadata": {},
   "outputs": [],
   "source": [
    "# tf.__version__"
   ]
  },
  {
   "cell_type": "code",
   "execution_count": 8,
   "metadata": {},
   "outputs": [],
   "source": [
    "# from tensorflow import keras\n",
    "# from tensorflow.keras import layers"
   ]
  },
  {
   "cell_type": "markdown",
   "metadata": {},
   "source": [
    "# Set up Features from columns"
   ]
  },
  {
   "cell_type": "code",
   "execution_count": 9,
   "metadata": {
    "tags": []
   },
   "outputs": [],
   "source": [
    "features =[\n",
    "    'o',\n",
    "     'h',\n",
    "     'l',\n",
    "     'c',\n",
    "     'volume',\n",
    "     'r',\n",
    "     'sma',\n",
    "     'min',\n",
    "     'max',\n",
    "     'mom',\n",
    "     'std',\n",
    "     'd',\n",
    "     'o_lag_1',\n",
    "     'o_lag_2',\n",
    "     'o_lag_3',\n",
    "     'o_lag_4',\n",
    "     'o_lag_5',\n",
    "     'h_lag_1',\n",
    "     'h_lag_2',\n",
    "     'h_lag_3',\n",
    "     'h_lag_4',\n",
    "     'h_lag_5',\n",
    "     'l_lag_1',\n",
    "     'l_lag_2',\n",
    "     'l_lag_3',\n",
    "     'l_lag_4',\n",
    "     'l_lag_5',\n",
    "     'c_lag_1',\n",
    "     'c_lag_2',\n",
    "     'c_lag_3',\n",
    "     'c_lag_4',\n",
    "     'c_lag_5',\n",
    "     'volume_lag_1',\n",
    "     'volume_lag_2',\n",
    "     'volume_lag_3',\n",
    "     'volume_lag_4',\n",
    "     'volume_lag_5',\n",
    "     'r_lag_1',\n",
    "     'r_lag_2',\n",
    "     'r_lag_3',\n",
    "     'r_lag_4',\n",
    "     'r_lag_5',\n",
    "     'sma_lag_1',\n",
    "     'sma_lag_2',\n",
    "     'sma_lag_3',\n",
    "     'sma_lag_4',\n",
    "     'sma_lag_5',\n",
    "     'min_lag_1',\n",
    "     'min_lag_2',\n",
    "     'min_lag_3',\n",
    "     'min_lag_4',\n",
    "     'min_lag_5',\n",
    "     'max_lag_1',\n",
    "     'max_lag_2',\n",
    "     'max_lag_3',\n",
    "     'max_lag_4',\n",
    "     'max_lag_5',\n",
    "     'mom_lag_1',\n",
    "     'mom_lag_2',\n",
    "     'mom_lag_3',\n",
    "     'mom_lag_4',\n",
    "     'mom_lag_5',\n",
    "     'std_lag_1',\n",
    "     'std_lag_2',\n",
    "     'std_lag_3',\n",
    "     'std_lag_4',\n",
    "     'std_lag_5',\n",
    "\n",
    "]"
   ]
  },
  {
   "cell_type": "code",
   "execution_count": 10,
   "metadata": {},
   "outputs": [
    {
     "data": {
      "text/plain": [
       "67"
      ]
     },
     "execution_count": 10,
     "metadata": {},
     "output_type": "execute_result"
    }
   ],
   "source": [
    "len(features)"
   ]
  },
  {
   "cell_type": "markdown",
   "metadata": {},
   "source": [
    "# Set up learning, validation and testing datasets\n",
    "based on dates"
   ]
  },
  {
   "cell_type": "code",
   "execution_count": 11,
   "metadata": {
    "tags": []
   },
   "outputs": [],
   "source": [
    "import datetime\n",
    "import pytz"
   ]
  },
  {
   "cell_type": "markdown",
   "metadata": {},
   "source": [
    "get saved features"
   ]
  },
  {
   "cell_type": "code",
   "execution_count": 12,
   "metadata": {},
   "outputs": [
    {
     "data": {
      "text/plain": [
       "67"
      ]
     },
     "execution_count": 12,
     "metadata": {},
     "output_type": "execute_result"
    }
   ],
   "source": [
    "len(features)"
   ]
  },
  {
   "cell_type": "code",
   "execution_count": 13,
   "metadata": {
    "tags": []
   },
   "outputs": [
    {
     "name": "stdout",
     "output_type": "stream",
     "text": [
      "startLearningDate:  2021-01-01 00:00:00\n",
      "endLearningDate:  2021-01-11 00:00:00\n",
      "startValDate 2021-01-12 00:00:00\n",
      "endValDate 2021-01-13 00:00:00\n",
      "startTestDate:  2021-01-14 00:00:00\n",
      "endTestDate:  2021-01-15 00:00:00\n"
     ]
    }
   ],
   "source": [
    "## set up Learning environment dates\n",
    "startLearningDate =datetime.datetime(2021, 1, 1,0,0,0)\n",
    "lastDayInData =datetime.datetime(2021, 12, 31,0,0,0)\n",
    "lastDayInData = lastDayInData.combine(lastDayInData, lastDayInData.min.time())\n",
    "# endLearningDate = startLearningDate + datetime.timedelta(days = 30)\n",
    "endLearningDate = startLearningDate + datetime.timedelta(days = 10)\n",
    "\n",
    "print('startLearningDate: ', startLearningDate)\n",
    "print('endLearningDate: ', endLearningDate)\n",
    "    \n",
    "    \n",
    "### set up validation environment dates\n",
    "startValDate = endLearningDate + datetime.timedelta(1)\n",
    "print('startValDate', startValDate)\n",
    "# endValDate = startValDate + datetime.timedelta(10)\n",
    "endValDate = startValDate + datetime.timedelta(1)\n",
    "\n",
    "print('endValDate', endValDate)\n",
    "\n",
    "### set up test environment dates\n",
    "startTestDate = endValDate + datetime.timedelta(1)\n",
    "print('startTestDate: ', startTestDate)\n",
    "# endTestDate = startTestDate + datetime.timedelta(10)\n",
    "endTestDate = startTestDate + datetime.timedelta(1)\n",
    "\n",
    "print('endTestDate: ', endTestDate)\n",
    "\n",
    "### set up environment start and end counts when using number index\n",
    "# startLearningDate = 0\n",
    "# startLearningDate = 0\n",
    "# endLearningDate = int(data.shape[0] *.800000)\n",
    "# etc.\n"
   ]
  },
  {
   "cell_type": "code",
   "execution_count": 14,
   "metadata": {},
   "outputs": [],
   "source": [
    "symbol = 'USD_JPY'\n",
    "window = 5\n",
    "lags = 5\n",
    "rows = 1\n",
    "granularity = 'M1'\n",
    "price = 'A'\n",
    "leverage = 30\n",
    "min_accuracy=0.10,\n",
    "min_performance=0.85\n"
   ]
  },
  {
   "cell_type": "code",
   "execution_count": 15,
   "metadata": {},
   "outputs": [],
   "source": [
    "try:\n",
    "    import v20\n",
    "except:\n",
    "    import pip\n",
    "    pip.main(['install', 'v20'])\n",
    "    import V20"
   ]
  },
  {
   "cell_type": "code",
   "execution_count": 16,
   "metadata": {},
   "outputs": [],
   "source": [
    "try:\n",
    "    import tensorflow\n",
    "except:\n",
    "    import pip\n",
    "    pip.main(['install', 'tensorflow'])\n",
    "    import tensorflow"
   ]
  },
  {
   "cell_type": "code",
   "execution_count": 17,
   "metadata": {},
   "outputs": [],
   "source": [
    "\n",
    "try:\n",
    "    import pyvirtualdisplay\n",
    "except:\n",
    "    import pip\n",
    "    pip.main(['install', 'pyvirtualdisplay'])\n",
    "    import pyvirtualdisplay\n"
   ]
  },
  {
   "cell_type": "code",
   "execution_count": 18,
   "metadata": {},
   "outputs": [],
   "source": [
    "import ModelBuilderEnv_66 as mbe"
   ]
  },
  {
   "cell_type": "code",
   "execution_count": null,
   "metadata": {},
   "outputs": [],
   "source": []
  },
  {
   "cell_type": "code",
   "execution_count": 19,
   "metadata": {},
   "outputs": [],
   "source": [
    "# from importlib import reload\n",
    "# reload(mbe)\n",
    "# import modelBuilderEnv as mbe"
   ]
  },
  {
   "cell_type": "code",
   "execution_count": 20,
   "metadata": {},
   "outputs": [
    {
     "name": "stdout",
     "output_type": "stream",
     "text": [
      "HISTORICAL DATA WAS COLLECTED\n",
      "Index(['o', 'h', 'l', 'c', 'volume', 'r', 'sma', 'min', 'max', 'mom', 'std'], dtype='object')\n",
      "cols:  ['o', 'h', 'l', 'c', 'volume', 'r', 'sma', 'min', 'max', 'mom', 'std']\n"
     ]
    }
   ],
   "source": [
    "learn_env = mbe.ModelBuilderEnv_66(\n",
    "    symbol=symbol,\n",
    "    start = startLearningDate,\n",
    "    end = endLearningDate,\n",
    "    granularity= granularity,\n",
    "    price= price,\n",
    "    features=features,\n",
    "    window=window,\n",
    "    lags=lags,\n",
    "    rows = rows,\n",
    "    leverage=leverage,\n",
    "    min_accuracy= min_accuracy,\n",
    "    min_performance=min_performance,\n",
    ")"
   ]
  },
  {
   "cell_type": "code",
   "execution_count": 21,
   "metadata": {},
   "outputs": [
    {
     "data": {
      "text/plain": [
       "(1,)"
      ]
     },
     "execution_count": 21,
     "metadata": {},
     "output_type": "execute_result"
    }
   ],
   "source": [
    "learn_env.observation_space.shape"
   ]
  },
  {
   "cell_type": "code",
   "execution_count": 22,
   "metadata": {},
   "outputs": [
    {
     "data": {
      "text/plain": [
       "67"
      ]
     },
     "execution_count": 22,
     "metadata": {},
     "output_type": "execute_result"
    }
   ],
   "source": [
    "learn_env.n_features"
   ]
  },
  {
   "cell_type": "code",
   "execution_count": 23,
   "metadata": {},
   "outputs": [
    {
     "data": {
      "text/plain": [
       "67"
      ]
     },
     "execution_count": 23,
     "metadata": {},
     "output_type": "execute_result"
    }
   ],
   "source": [
    "len(learn_env.features)"
   ]
  },
  {
   "cell_type": "code",
   "execution_count": 24,
   "metadata": {},
   "outputs": [
    {
     "data": {
      "text/plain": [
       "2"
      ]
     },
     "execution_count": 24,
     "metadata": {},
     "output_type": "execute_result"
    }
   ],
   "source": [
    "learn_env.action_space.n"
   ]
  },
  {
   "cell_type": "code",
   "execution_count": 25,
   "metadata": {},
   "outputs": [
    {
     "data": {
      "text/plain": [
       "0"
      ]
     },
     "execution_count": 25,
     "metadata": {},
     "output_type": "execute_result"
    }
   ],
   "source": [
    "a = learn_env.action_space.sample()\n",
    "a"
   ]
  },
  {
   "cell_type": "code",
   "execution_count": 26,
   "metadata": {},
   "outputs": [],
   "source": [
    "# state, reward, done, info = learn_env.step(a)"
   ]
  },
  {
   "cell_type": "code",
   "execution_count": 27,
   "metadata": {},
   "outputs": [
    {
     "data": {
      "text/plain": [
       "5"
      ]
     },
     "execution_count": 27,
     "metadata": {},
     "output_type": "execute_result"
    }
   ],
   "source": [
    "learn_env.window"
   ]
  },
  {
   "cell_type": "code",
   "execution_count": 28,
   "metadata": {},
   "outputs": [
    {
     "data": {
      "text/plain": [
       "-0.09199999999999875"
      ]
     },
     "execution_count": 28,
     "metadata": {},
     "output_type": "execute_result"
    }
   ],
   "source": [
    "learn_env.raw['r'].min()"
   ]
  },
  {
   "cell_type": "code",
   "execution_count": 29,
   "metadata": {},
   "outputs": [],
   "source": [
    "# learn_env.raw['r'].head()"
   ]
  },
  {
   "cell_type": "code",
   "execution_count": null,
   "metadata": {},
   "outputs": [],
   "source": []
  },
  {
   "cell_type": "code",
   "execution_count": 30,
   "metadata": {},
   "outputs": [],
   "source": [
    "# learn_env.raw['d'].head(30)"
   ]
  },
  {
   "cell_type": "code",
   "execution_count": 31,
   "metadata": {},
   "outputs": [],
   "source": [
    "# learn_env.raw['r'].head(100)\n"
   ]
  },
  {
   "cell_type": "code",
   "execution_count": 32,
   "metadata": {},
   "outputs": [
    {
     "data": {
      "text/plain": [
       "array([3670, 3259], dtype=int64)"
      ]
     },
     "execution_count": 32,
     "metadata": {},
     "output_type": "execute_result"
    }
   ],
   "source": [
    "np.bincount(learn_env.raw['d'])"
   ]
  },
  {
   "cell_type": "code",
   "execution_count": 33,
   "metadata": {},
   "outputs": [
    {
     "name": "stdout",
     "output_type": "stream",
     "text": [
      "HISTORICAL DATA WAS COLLECTED\n",
      "Index(['o', 'h', 'l', 'c', 'volume', 'r', 'sma', 'min', 'max', 'mom', 'std'], dtype='object')\n",
      "cols:  ['o', 'h', 'l', 'c', 'volume', 'r', 'sma', 'min', 'max', 'mom', 'std']\n"
     ]
    }
   ],
   "source": [
    "#                   start=f'{date} 13:00:00',\n",
    "#                   end=f'{date} 14:00:00',\n",
    "# the minimum accuracy and performance are set to zero\n",
    "# since we are not training, but instead evaluating.\n",
    "\n",
    "valid_env = mbe.ModelBuilderEnv_66(\n",
    "    symbol=learn_env.symbol,\n",
    "    start = startValDate,\n",
    "    end = endValDate,\n",
    "    granularity=learn_env.granularity,\n",
    "    price=learn_env.price,\n",
    "    features=learn_env.features,\n",
    "    window=learn_env.window,\n",
    "    lags=learn_env.lags,\n",
    "    rows = learn_env.rows,\n",
    "    leverage=learn_env.leverage,\n",
    "    min_accuracy=0,\n",
    "    min_performance=0,\n",
    "    mu=learn_env.mu,\n",
    "    std=learn_env.std\n",
    "    )"
   ]
  },
  {
   "cell_type": "code",
   "execution_count": 34,
   "metadata": {},
   "outputs": [],
   "source": [
    "# valid_env.data.info()"
   ]
  },
  {
   "cell_type": "code",
   "execution_count": 35,
   "metadata": {},
   "outputs": [
    {
     "name": "stdout",
     "output_type": "stream",
     "text": [
      "HISTORICAL DATA WAS COLLECTED\n",
      "Index(['o', 'h', 'l', 'c', 'volume', 'r', 'sma', 'min', 'max', 'mom', 'std'], dtype='object')\n",
      "cols:  ['o', 'h', 'l', 'c', 'volume', 'r', 'sma', 'min', 'max', 'mom', 'std']\n"
     ]
    }
   ],
   "source": [
    "#                   start=f'{date} 14:00:00',\n",
    "#                   end=f'{date} 17:00:00',\n",
    "#     start = f'{startTestDate} 08:00:00+00:00',\n",
    "#     end = f'{endTestDate} 13:00:00+00:00',\n",
    "test_env = mbe.ModelBuilderEnv_66(\n",
    "    symbol=learn_env.symbol,\n",
    "    start = startTestDate,\n",
    "    end = endTestDate,\n",
    "    granularity=learn_env.granularity,\n",
    "    price=learn_env.price,\n",
    "    features=learn_env.features,\n",
    "    window=learn_env.window,\n",
    "    lags=learn_env.lags,\n",
    "    leverage=learn_env.leverage,\n",
    "    rows = learn_env.rows,\n",
    "    min_accuracy=0,\n",
    "    min_performance=0,\n",
    "    mu=learn_env.mu,\n",
    "    std=learn_env.std\n",
    "    )"
   ]
  },
  {
   "cell_type": "code",
   "execution_count": 36,
   "metadata": {},
   "outputs": [],
   "source": [
    "# test_env.data.info()"
   ]
  },
  {
   "cell_type": "code",
   "execution_count": null,
   "metadata": {},
   "outputs": [],
   "source": []
  },
  {
   "cell_type": "code",
   "execution_count": 37,
   "metadata": {},
   "outputs": [
    {
     "data": {
      "image/png": "[encoded data removed]",
      "text/plain": [
       "<Figure size 720x432 with 1 Axes>"
      ]
     },
     "metadata": {},
     "output_type": "display_data"
    }
   ],
   "source": [
    "# plots the closing prices for learn env and testing data\n",
    "ax = learn_env.raw['c'].plot(figsize=(10, 6))\n",
    "plt.axvline(learn_env.raw.index[-1], ls='--')\n",
    "valid_env.raw['c'].plot(ax=ax, style='-.')\n",
    "plt.axvline(valid_env.raw.index[-1], ls='--')\n",
    "test_env.raw['c'].plot(ax=ax, style='-.');"
   ]
  },
  {
   "cell_type": "code",
   "execution_count": null,
   "metadata": {},
   "outputs": [],
   "source": []
  },
  {
   "cell_type": "markdown",
   "metadata": {},
   "source": [
    "## TO DO: Does the closing prices show that prices almost always drop in the latter part of the week?"
   ]
  },
  {
   "cell_type": "code",
   "execution_count": 38,
   "metadata": {},
   "outputs": [],
   "source": [
    "# import kmV20"
   ]
  },
  {
   "cell_type": "markdown",
   "metadata": {
    "tags": []
   },
   "source": [
    "# ***** START create the model"
   ]
  },
  {
   "cell_type": "code",
   "execution_count": 39,
   "metadata": {},
   "outputs": [],
   "source": [
    "import tradingbot"
   ]
  },
  {
   "cell_type": "code",
   "execution_count": 40,
   "metadata": {},
   "outputs": [],
   "source": [
    "from importlib import reload\n",
    "reload(tradingbot)\n",
    "import tradingbot as tradingbot"
   ]
  },
  {
   "cell_type": "code",
   "execution_count": 41,
   "metadata": {},
   "outputs": [],
   "source": [
    "# import modelBuilderEnv as mbe"
   ]
  },
  {
   "cell_type": "code",
   "execution_count": 42,
   "metadata": {},
   "outputs": [],
   "source": [
    "# from importlib import reload\n",
    "# reload(mbe)\n",
    "# import modelBuilderEnv as mbe"
   ]
  },
  {
   "cell_type": "code",
   "execution_count": 43,
   "metadata": {},
   "outputs": [
    {
     "name": "stdout",
     "output_type": "stream",
     "text": [
      "2\n"
     ]
    }
   ],
   "source": [
    "print(learn_env.action_space.n)"
   ]
  },
  {
   "cell_type": "code",
   "execution_count": null,
   "metadata": {},
   "outputs": [],
   "source": []
  },
  {
   "cell_type": "code",
   "execution_count": 44,
   "metadata": {},
   "outputs": [
    {
     "name": "stdout",
     "output_type": "stream",
     "text": [
      "w0  0.9440054495912807\n",
      "w1  1.0630561521939246\n",
      "self.classWeights:  {0: 0.9440054495912807, 1: 1.0630561521939246}\n",
      "1- self.replayCounter:  0\n",
      "Num GPUs: 1\n"
     ]
    }
   ],
   "source": [
    "tradingbot.set_seeds(100)\n",
    "agent = tradingbot.TradingBot(learn_env = learn_env, valid_env = valid_env)"
   ]
  },
  {
   "cell_type": "code",
   "execution_count": 45,
   "metadata": {},
   "outputs": [],
   "source": [
    "# otb = OandaTradingBot('accountConfigs.cfg', agent, '1M',\n",
    "#                       1500, verbose=False)"
   ]
  },
  {
   "cell_type": "code",
   "execution_count": 46,
   "metadata": {},
   "outputs": [],
   "source": [
    "# episodes = 20\n",
    "episodes = 50"
   ]
  },
  {
   "cell_type": "code",
   "execution_count": 47,
   "metadata": {},
   "outputs": [],
   "source": [
    "# print(agent.arrayBalanceOfTrades)"
   ]
  },
  {
   "cell_type": "code",
   "execution_count": 48,
   "metadata": {},
   "outputs": [
    {
     "name": "stdout",
     "output_type": "stream",
     "text": [
      "0\n"
     ]
    }
   ],
   "source": [
    "print(sum(agent.trewards))"
   ]
  },
  {
   "cell_type": "code",
   "execution_count": 49,
   "metadata": {},
   "outputs": [
    {
     "data": {
      "text/plain": [
       "{0: 0.9440054495912807, 1: 1.0630561521939246}"
      ]
     },
     "execution_count": 49,
     "metadata": {},
     "output_type": "execute_result"
    }
   ],
   "source": [
    "agent.classWeights"
   ]
  },
  {
   "cell_type": "code",
   "execution_count": 50,
   "metadata": {},
   "outputs": [
    {
     "name": "stdout",
     "output_type": "stream",
     "text": [
      "_____________________________________________\n",
      "START EPISODE 1 of 50\n",
      "episode start time:  Tuesday, March 22, 2022 04:41:12\n",
      "END OF EPISODE 1 of 50\n",
      "episode end time:  Tuesday, March 22, 2022 04:44:09\n",
      "episode time duration:  0:02:57.372666\n",
      "End 1/50 episodes at Tuesday, March 22, 2022 04:41:12 for a total of 0:02:57.372666 with the following balance of trades 30.20999999999802 \n",
      "_____________________________________________\n",
      "epmod:  1\n",
      "episodes:  50\n",
      "True\n",
      "False\n",
      "False\n",
      "_____________________________________________\n",
      "START EPISODE 2 of 50\n",
      "episode start time:  Tuesday, March 22, 2022 04:44:12\n",
      "END OF EPISODE 2 of 50\n",
      "episode end time:  Tuesday, March 22, 2022 04:52:30\n",
      "episode time duration:  0:08:17.952427\n",
      "End 2/50 episodes at Tuesday, March 22, 2022 04:44:12 for a total of 0:08:17.952427 with the following balance of trades -61.80000000000305 \n",
      "_____________________________________________\n",
      "epmod:  2\n",
      "episodes:  50\n",
      "False\n",
      "False\n",
      "False\n",
      "_____________________________________________\n",
      "START EPISODE 3 of 50\n",
      "episode start time:  Tuesday, March 22, 2022 04:52:30\n",
      "END OF EPISODE 3 of 50\n",
      "episode end time:  Tuesday, March 22, 2022 05:06:32\n",
      "episode time duration:  0:14:01.265221\n",
      "End 3/50 episodes at Tuesday, March 22, 2022 04:52:30 for a total of 0:14:01.265221 with the following balance of trades -61.26000000000005 \n",
      "_____________________________________________\n",
      "epmod:  3\n",
      "episodes:  50\n",
      "False\n",
      "False\n",
      "False\n",
      "_____________________________________________\n",
      "START EPISODE 4 of 50\n",
      "episode start time:  Tuesday, March 22, 2022 05:06:32\n",
      "END OF EPISODE 4 of 50\n",
      "episode end time:  Tuesday, March 22, 2022 05:19:14\n",
      "episode time duration:  0:12:42.013397\n",
      "End 4/50 episodes at Tuesday, March 22, 2022 05:06:32 for a total of 0:12:42.013397 with the following balance of trades -54.48000000000434 \n",
      "_____________________________________________\n",
      "epmod:  4\n",
      "episodes:  50\n",
      "False\n",
      "False\n",
      "False\n",
      "_____________________________________________\n",
      "START EPISODE 5 of 50\n",
      "episode start time:  Tuesday, March 22, 2022 05:19:14\n",
      "END OF EPISODE 5 of 50\n",
      "episode end time:  Tuesday, March 22, 2022 05:32:16\n",
      "episode time duration:  0:13:02.509695\n",
      "End 5/50 episodes at Tuesday, March 22, 2022 05:19:14 for a total of 0:13:02.509695 with the following balance of trades -5.070000000009287 \n",
      "_____________________________________________\n",
      "epmod:  5\n",
      "episodes:  50\n",
      "False\n",
      "False\n",
      "False\n",
      "_____________________________________________\n",
      "START EPISODE 6 of 50\n",
      "episode start time:  Tuesday, March 22, 2022 05:32:16\n",
      "END OF EPISODE 6 of 50\n",
      "episode end time:  Tuesday, March 22, 2022 05:46:01\n",
      "episode time duration:  0:13:45.118711\n",
      "End 6/50 episodes at Tuesday, March 22, 2022 05:32:16 for a total of 0:13:45.118711 with the following balance of trades 41.579999999980686 \n",
      "_____________________________________________\n",
      "epmod:  6\n",
      "episodes:  50\n",
      "False\n",
      "False\n",
      "False\n",
      "_____________________________________________\n",
      "START EPISODE 7 of 50\n",
      "episode start time:  Tuesday, March 22, 2022 05:46:01\n",
      "END OF EPISODE 7 of 50\n",
      "episode end time:  Tuesday, March 22, 2022 06:09:07\n",
      "episode time duration:  0:23:05.233582\n",
      "End 7/50 episodes at Tuesday, March 22, 2022 05:46:01 for a total of 0:23:05.233582 with the following balance of trades 57.17999999997119 \n",
      "_____________________________________________\n",
      "epmod:  7\n",
      "episodes:  50\n",
      "False\n",
      "False\n",
      "False\n",
      "_____________________________________________\n",
      "START EPISODE 8 of 50\n",
      "episode start time:  Tuesday, March 22, 2022 06:09:07\n",
      "END OF EPISODE 8 of 50\n",
      "episode end time:  Tuesday, March 22, 2022 06:38:30\n",
      "episode time duration:  0:29:23.042029\n",
      "End 8/50 episodes at Tuesday, March 22, 2022 06:09:07 for a total of 0:29:23.042029 with the following balance of trades 126.80999999996516 \n",
      "_____________________________________________\n",
      "epmod:  8\n",
      "episodes:  50\n",
      "False\n",
      "False\n",
      "False\n",
      "_____________________________________________\n",
      "START EPISODE 9 of 50\n",
      "episode start time:  Tuesday, March 22, 2022 06:38:30\n",
      "END OF EPISODE 9 of 50\n",
      "episode end time:  Tuesday, March 22, 2022 07:17:28\n",
      "episode time duration:  0:38:58.504802\n",
      "End 9/50 episodes at Tuesday, March 22, 2022 06:38:30 for a total of 0:38:58.504802 with the following balance of trades 103.40999999999113 \n",
      "_____________________________________________\n",
      "epmod:  9\n",
      "episodes:  50\n",
      "False\n",
      "False\n",
      "False\n",
      "_____________________________________________\n",
      "START EPISODE 10 of 50\n",
      "episode start time:  Tuesday, March 22, 2022 07:17:28\n",
      "END OF EPISODE 10 of 50\n",
      "episode end time:  Tuesday, March 22, 2022 07:41:31\n",
      "episode time duration:  0:24:02.374701\n",
      "End 10/50 episodes at Tuesday, March 22, 2022 07:17:28 for a total of 0:24:02.374701 with the following balance of trades 122.51999999996343 \n",
      "_____________________________________________\n",
      "epmod:  0\n",
      "episodes:  50\n",
      "False\n",
      "True\n",
      "False\n",
      "_____________________________________________\n",
      "START EPISODE 11 of 50\n",
      "episode start time:  Tuesday, March 22, 2022 07:41:31\n",
      "END OF EPISODE 11 of 50\n",
      "episode end time:  Tuesday, March 22, 2022 08:03:46\n",
      "episode time duration:  0:22:15.411968\n",
      "End 11/50 episodes at Tuesday, March 22, 2022 07:41:31 for a total of 0:22:15.411968 with the following balance of trades 152.81999999995293 \n",
      "_____________________________________________\n",
      "epmod:  1\n",
      "episodes:  50\n",
      "False\n",
      "False\n",
      "False\n",
      "_____________________________________________\n",
      "START EPISODE 12 of 50\n",
      "episode start time:  Tuesday, March 22, 2022 08:03:46\n",
      "END OF EPISODE 12 of 50\n",
      "episode end time:  Tuesday, March 22, 2022 08:18:04\n",
      "episode time duration:  0:14:17.140331\n",
      "End 12/50 episodes at Tuesday, March 22, 2022 08:03:46 for a total of 0:14:17.140331 with the following balance of trades 126.1799999999647 \n",
      "_____________________________________________\n",
      "epmod:  2\n",
      "episodes:  50\n",
      "False\n",
      "False\n",
      "False\n",
      "_____________________________________________\n",
      "START EPISODE 13 of 50\n",
      "episode start time:  Tuesday, March 22, 2022 08:18:04\n",
      "END OF EPISODE 13 of 50\n",
      "episode end time:  Tuesday, March 22, 2022 08:33:29\n",
      "episode time duration:  0:15:25.853506\n",
      "End 13/50 episodes at Tuesday, March 22, 2022 08:18:04 for a total of 0:15:25.853506 with the following balance of trades 99.269999999985 \n",
      "_____________________________________________\n",
      "epmod:  3\n",
      "episodes:  50\n",
      "False\n",
      "False\n",
      "False\n",
      "_____________________________________________\n",
      "START EPISODE 14 of 50\n",
      "episode start time:  Tuesday, March 22, 2022 08:33:29\n",
      "END OF EPISODE 14 of 50\n",
      "episode end time:  Tuesday, March 22, 2022 08:47:22\n",
      "episode time duration:  0:13:52.796334\n",
      "End 14/50 episodes at Tuesday, March 22, 2022 08:33:29 for a total of 0:13:52.796334 with the following balance of trades 105.29999999998864 \n",
      "_____________________________________________\n",
      "epmod:  4\n",
      "episodes:  50\n",
      "False\n",
      "False\n",
      "False\n",
      "_____________________________________________\n",
      "START EPISODE 15 of 50\n",
      "episode start time:  Tuesday, March 22, 2022 08:47:22\n",
      "END OF EPISODE 15 of 50\n",
      "episode end time:  Tuesday, March 22, 2022 09:07:23\n",
      "episode time duration:  0:20:00.479228\n",
      "End 15/50 episodes at Tuesday, March 22, 2022 08:47:22 for a total of 0:20:00.479228 with the following balance of trades 97.13999999999103 \n",
      "_____________________________________________\n",
      "epmod:  5\n",
      "episodes:  50\n",
      "False\n",
      "False\n",
      "False\n",
      "_____________________________________________\n",
      "START EPISODE 16 of 50\n",
      "episode start time:  Tuesday, March 22, 2022 09:07:23\n",
      "END OF EPISODE 16 of 50\n",
      "episode end time:  Tuesday, March 22, 2022 09:21:53\n",
      "episode time duration:  0:14:30.680798\n",
      "End 16/50 episodes at Tuesday, March 22, 2022 09:07:23 for a total of 0:14:30.680798 with the following balance of trades 135.29999999997202 \n",
      "_____________________________________________\n",
      "epmod:  6\n",
      "episodes:  50\n",
      "False\n",
      "False\n",
      "False\n",
      "_____________________________________________\n",
      "START EPISODE 17 of 50\n",
      "episode start time:  Tuesday, March 22, 2022 09:21:53\n",
      "END OF EPISODE 17 of 50\n",
      "episode end time:  Tuesday, March 22, 2022 09:52:12\n",
      "episode time duration:  0:30:18.821400\n",
      "End 17/50 episodes at Tuesday, March 22, 2022 09:21:53 for a total of 0:30:18.821400 with the following balance of trades 111.50999999997566 \n",
      "_____________________________________________\n",
      "epmod:  7\n",
      "episodes:  50\n",
      "False\n",
      "False\n",
      "False\n",
      "_____________________________________________\n",
      "START EPISODE 18 of 50\n",
      "episode start time:  Tuesday, March 22, 2022 09:52:12\n",
      "END OF EPISODE 18 of 50\n",
      "episode end time:  Tuesday, March 22, 2022 10:07:56\n",
      "episode time duration:  0:15:43.357841\n",
      "End 18/50 episodes at Tuesday, March 22, 2022 09:52:12 for a total of 0:15:43.357841 with the following balance of trades 97.31999999995523 \n",
      "_____________________________________________\n",
      "epmod:  8\n",
      "episodes:  50\n",
      "False\n",
      "False\n",
      "False\n",
      "_____________________________________________\n",
      "START EPISODE 19 of 50\n",
      "episode start time:  Tuesday, March 22, 2022 10:07:56\n",
      "END OF EPISODE 19 of 50\n",
      "episode end time:  Tuesday, March 22, 2022 10:30:40\n",
      "episode time duration:  0:22:44.117069\n",
      "End 19/50 episodes at Tuesday, March 22, 2022 10:07:56 for a total of 0:22:44.117069 with the following balance of trades 63.4499999999602 \n",
      "_____________________________________________\n",
      "epmod:  9\n",
      "episodes:  50\n",
      "False\n",
      "False\n",
      "False\n",
      "_____________________________________________\n",
      "START EPISODE 20 of 50\n",
      "episode start time:  Tuesday, March 22, 2022 10:30:40\n",
      "END OF EPISODE 20 of 50\n",
      "episode end time:  Tuesday, March 22, 2022 10:46:37\n",
      "episode time duration:  0:15:57.333412\n",
      "End 20/50 episodes at Tuesday, March 22, 2022 10:30:40 for a total of 0:15:57.333412 with the following balance of trades 103.1699999999563 \n",
      "_____________________________________________\n",
      "epmod:  0\n",
      "episodes:  50\n",
      "False\n",
      "True\n",
      "False\n",
      "_____________________________________________\n",
      "START EPISODE 21 of 50\n",
      "episode start time:  Tuesday, March 22, 2022 10:46:38\n",
      "END OF EPISODE 21 of 50\n",
      "episode end time:  Tuesday, March 22, 2022 11:18:40\n",
      "episode time duration:  0:32:01.991288\n",
      "End 21/50 episodes at Tuesday, March 22, 2022 10:46:38 for a total of 0:32:01.991288 with the following balance of trades 88.13999999996852 \n",
      "_____________________________________________\n",
      "epmod:  1\n",
      "episodes:  50\n",
      "False\n",
      "False\n",
      "False\n",
      "_____________________________________________\n",
      "START EPISODE 22 of 50\n",
      "episode start time:  Tuesday, March 22, 2022 11:18:40\n",
      "END OF EPISODE 22 of 50\n",
      "episode end time:  Tuesday, March 22, 2022 11:42:49\n",
      "episode time duration:  0:24:09.600142\n",
      "End 22/50 episodes at Tuesday, March 22, 2022 11:18:40 for a total of 0:24:09.600142 with the following balance of trades 91.73999999996099 \n",
      "_____________________________________________\n",
      "epmod:  2\n",
      "episodes:  50\n",
      "False\n",
      "False\n",
      "False\n",
      "_____________________________________________\n",
      "START EPISODE 23 of 50\n",
      "episode start time:  Tuesday, March 22, 2022 11:42:49\n",
      "END OF EPISODE 23 of 50\n",
      "episode end time:  Wednesday, March 23, 2022 12:06:43\n",
      "episode time duration:  0:23:53.306861\n",
      "End 23/50 episodes at Tuesday, March 22, 2022 11:42:49 for a total of 0:23:53.306861 with the following balance of trades 48.29999999996204 \n",
      "_____________________________________________\n",
      "epmod:  3\n",
      "episodes:  50\n",
      "False\n",
      "False\n",
      "False\n",
      "_____________________________________________\n",
      "START EPISODE 24 of 50\n",
      "episode start time:  Wednesday, March 23, 2022 12:06:43\n",
      "END OF EPISODE 24 of 50\n",
      "episode end time:  Wednesday, March 23, 2022 12:24:48\n",
      "episode time duration:  0:18:05.339438\n",
      "End 24/50 episodes at Wednesday, March 23, 2022 12:06:43 for a total of 0:18:05.339438 with the following balance of trades 69.95999999995163 \n",
      "_____________________________________________\n",
      "epmod:  4\n",
      "episodes:  50\n",
      "False\n",
      "False\n",
      "False\n",
      "_____________________________________________\n",
      "START EPISODE 25 of 50\n",
      "episode start time:  Wednesday, March 23, 2022 12:24:48\n",
      "END OF EPISODE 25 of 50\n",
      "episode end time:  Wednesday, March 23, 2022 12:50:48\n",
      "episode time duration:  0:25:59.695801\n",
      "End 25/50 episodes at Wednesday, March 23, 2022 12:24:48 for a total of 0:25:59.695801 with the following balance of trades 105.59999999994147 \n",
      "_____________________________________________\n",
      "epmod:  5\n",
      "episodes:  50\n",
      "False\n",
      "False\n",
      "False\n",
      "_____________________________________________\n",
      "START EPISODE 26 of 50\n",
      "episode start time:  Wednesday, March 23, 2022 12:50:48\n",
      "END OF EPISODE 26 of 50\n",
      "episode end time:  Wednesday, March 23, 2022 01:11:02\n",
      "episode time duration:  0:20:14.117326\n",
      "End 26/50 episodes at Wednesday, March 23, 2022 12:50:48 for a total of 0:20:14.117326 with the following balance of trades 132.89999999993498 \n",
      "_____________________________________________\n",
      "epmod:  6\n",
      "episodes:  50\n",
      "False\n",
      "False\n",
      "False\n",
      "_____________________________________________\n",
      "START EPISODE 27 of 50\n",
      "episode start time:  Wednesday, March 23, 2022 01:11:02\n",
      "END OF EPISODE 27 of 50\n",
      "episode end time:  Wednesday, March 23, 2022 01:48:14\n",
      "episode time duration:  0:37:12.031605\n",
      "End 27/50 episodes at Wednesday, March 23, 2022 01:11:02 for a total of 0:37:12.031605 with the following balance of trades 115.91999999996048 \n",
      "_____________________________________________\n",
      "epmod:  7\n",
      "episodes:  50\n",
      "False\n",
      "False\n",
      "False\n",
      "_____________________________________________\n",
      "START EPISODE 28 of 50\n",
      "episode start time:  Wednesday, March 23, 2022 01:48:14\n",
      "END OF EPISODE 28 of 50\n",
      "episode end time:  Wednesday, March 23, 2022 02:16:21\n",
      "episode time duration:  0:28:07.011041\n",
      "End 28/50 episodes at Wednesday, March 23, 2022 01:48:14 for a total of 0:28:07.011041 with the following balance of trades 100.31999999997339 \n",
      "_____________________________________________\n",
      "epmod:  8\n",
      "episodes:  50\n",
      "False\n",
      "False\n",
      "False\n",
      "_____________________________________________\n",
      "START EPISODE 29 of 50\n",
      "episode start time:  Wednesday, March 23, 2022 02:16:21\n",
      "END OF EPISODE 29 of 50\n",
      "episode end time:  Wednesday, March 23, 2022 02:37:44\n",
      "episode time duration:  0:21:23.454761\n",
      "End 29/50 episodes at Wednesday, March 23, 2022 02:16:21 for a total of 0:21:23.454761 with the following balance of trades 138.77999999997456 \n",
      "_____________________________________________\n",
      "epmod:  9\n",
      "episodes:  50\n",
      "False\n",
      "False\n",
      "False\n",
      "_____________________________________________\n",
      "START EPISODE 30 of 50\n",
      "episode start time:  Wednesday, March 23, 2022 02:37:44\n",
      "END OF EPISODE 30 of 50\n",
      "episode end time:  Wednesday, March 23, 2022 03:16:37\n",
      "episode time duration:  0:38:52.342968\n",
      "End 30/50 episodes at Wednesday, March 23, 2022 02:37:44 for a total of 0:38:52.342968 with the following balance of trades 154.589999999978 \n",
      "_____________________________________________\n",
      "epmod:  0\n",
      "episodes:  50\n",
      "False\n",
      "True\n",
      "False\n",
      "_____________________________________________\n",
      "START EPISODE 31 of 50\n",
      "episode start time:  Wednesday, March 23, 2022 03:16:38\n",
      "END OF EPISODE 31 of 50\n",
      "episode end time:  Wednesday, March 23, 2022 03:38:57\n",
      "episode time duration:  0:22:19.094433\n",
      "End 31/50 episodes at Wednesday, March 23, 2022 03:16:38 for a total of 0:22:19.094433 with the following balance of trades 176.27999999998607 \n",
      "_____________________________________________\n",
      "epmod:  1\n",
      "episodes:  50\n",
      "False\n",
      "False\n",
      "False\n",
      "_____________________________________________\n",
      "START EPISODE 32 of 50\n",
      "episode start time:  Wednesday, March 23, 2022 03:38:57\n",
      "END OF EPISODE 32 of 50\n",
      "episode end time:  Wednesday, March 23, 2022 04:26:41\n",
      "episode time duration:  0:47:43.908559\n",
      "End 32/50 episodes at Wednesday, March 23, 2022 03:38:57 for a total of 0:47:43.908559 with the following balance of trades 131.18999999997584 \n",
      "_____________________________________________\n",
      "epmod:  2\n",
      "episodes:  50\n",
      "False\n",
      "False\n",
      "False\n",
      "_____________________________________________\n",
      "START EPISODE 33 of 50\n",
      "episode start time:  Wednesday, March 23, 2022 04:26:41\n",
      "END OF EPISODE 33 of 50\n",
      "episode end time:  Wednesday, March 23, 2022 05:19:05\n",
      "episode time duration:  0:52:24.711499\n",
      "End 33/50 episodes at Wednesday, March 23, 2022 04:26:41 for a total of 0:52:24.711499 with the following balance of trades 103.88999999996614 \n",
      "_____________________________________________\n",
      "epmod:  3\n",
      "episodes:  50\n",
      "False\n",
      "False\n",
      "False\n",
      "_____________________________________________\n",
      "START EPISODE 34 of 50\n",
      "episode start time:  Wednesday, March 23, 2022 05:19:05\n",
      "END OF EPISODE 34 of 50\n",
      "episode end time:  Wednesday, March 23, 2022 06:02:03\n",
      "episode time duration:  0:42:57.443218\n",
      "End 34/50 episodes at Wednesday, March 23, 2022 05:19:05 for a total of 0:42:57.443218 with the following balance of trades 88.61999999997039 \n",
      "_____________________________________________\n",
      "epmod:  4\n",
      "episodes:  50\n",
      "False\n",
      "False\n",
      "False\n",
      "_____________________________________________\n",
      "START EPISODE 35 of 50\n",
      "episode start time:  Wednesday, March 23, 2022 06:02:03\n",
      "END OF EPISODE 35 of 50\n",
      "episode end time:  Wednesday, March 23, 2022 06:56:39\n",
      "episode time duration:  0:54:36.095107\n",
      "End 35/50 episodes at Wednesday, March 23, 2022 06:02:03 for a total of 0:54:36.095107 with the following balance of trades 91.04999999995385 \n",
      "_____________________________________________\n",
      "epmod:  5\n",
      "episodes:  50\n",
      "False\n",
      "False\n",
      "False\n",
      "_____________________________________________\n",
      "START EPISODE 36 of 50\n",
      "episode start time:  Wednesday, March 23, 2022 06:56:39\n",
      "END OF EPISODE 36 of 50\n",
      "episode end time:  Wednesday, March 23, 2022 07:32:23\n",
      "episode time duration:  0:35:44.093610\n",
      "End 36/50 episodes at Wednesday, March 23, 2022 06:56:39 for a total of 0:35:44.093610 with the following balance of trades 111.86999999994157 \n",
      "_____________________________________________\n",
      "epmod:  6\n",
      "episodes:  50\n",
      "False\n",
      "False\n",
      "False\n",
      "_____________________________________________\n",
      "START EPISODE 37 of 50\n",
      "episode start time:  Wednesday, March 23, 2022 07:32:23\n",
      "END OF EPISODE 37 of 50\n",
      "episode end time:  Wednesday, March 23, 2022 08:01:49\n",
      "episode time duration:  0:29:25.970490\n",
      "End 37/50 episodes at Wednesday, March 23, 2022 07:32:23 for a total of 0:29:25.970490 with the following balance of trades 123.47999999994798 \n",
      "_____________________________________________\n",
      "epmod:  7\n",
      "episodes:  50\n",
      "False\n",
      "False\n",
      "False\n",
      "_____________________________________________\n",
      "START EPISODE 38 of 50\n",
      "episode start time:  Wednesday, March 23, 2022 08:01:49\n",
      "END OF EPISODE 38 of 50\n",
      "episode end time:  Wednesday, March 23, 2022 08:44:30\n",
      "episode time duration:  0:42:41.289264\n",
      "End 38/50 episodes at Wednesday, March 23, 2022 08:01:49 for a total of 0:42:41.289264 with the following balance of trades 117.35999999993751 \n",
      "_____________________________________________\n",
      "epmod:  8\n",
      "episodes:  50\n",
      "False\n",
      "False\n",
      "False\n",
      "_____________________________________________\n",
      "START EPISODE 39 of 50\n",
      "episode start time:  Wednesday, March 23, 2022 08:44:30\n",
      "END OF EPISODE 39 of 50\n",
      "episode end time:  Wednesday, March 23, 2022 09:54:23\n",
      "episode time duration:  1:09:52.785956\n",
      "End 39/50 episodes at Wednesday, March 23, 2022 08:44:30 for a total of 1:09:52.785956 with the following balance of trades 76.04999999994874 \n",
      "_____________________________________________\n",
      "epmod:  9\n",
      "episodes:  50\n",
      "False\n",
      "False\n",
      "False\n",
      "_____________________________________________\n",
      "START EPISODE 40 of 50\n",
      "episode start time:  Wednesday, March 23, 2022 09:54:23\n"
     ]
    },
    {
     "ename": "PermissionError",
     "evalue": "[Errno 13] Permission denied",
     "output_type": "error",
     "traceback": [
      "\u001b[1;31m---------------------------------------------------------------------------\u001b[0m",
      "\u001b[1;31mPermissionError\u001b[0m                           Traceback (most recent call last)",
      "\u001b[1;32mD:\\DProgramFiles\\Anaconda3\\envs\\KM-Trading\\lib\\site-packages\\numpy\\lib\\npyio.py\u001b[0m in \u001b[0;36msavetxt\u001b[1;34m(fname, X, fmt, delimiter, newline, header, footer, comments, encoding)\u001b[0m\n\u001b[0;32m   1439\u001b[0m                                     % (str(X.dtype), format)) from e\n\u001b[1;32m-> 1440\u001b[1;33m                 \u001b[0mfh\u001b[0m\u001b[1;33m.\u001b[0m\u001b[0mwrite\u001b[0m\u001b[1;33m(\u001b[0m\u001b[0mv\u001b[0m\u001b[1;33m)\u001b[0m\u001b[1;33m\u001b[0m\u001b[1;33m\u001b[0m\u001b[0m\n\u001b[0m\u001b[0;32m   1441\u001b[0m \u001b[1;33m\u001b[0m\u001b[0m\n",
      "\u001b[1;31mPermissionError\u001b[0m: [Errno 13] Permission denied",
      "\nDuring handling of the above exception, another exception occurred:\n",
      "\u001b[1;31mPermissionError\u001b[0m                           Traceback (most recent call last)",
      "\u001b[1;31mPermissionError\u001b[0m: [Errno 13] Permission denied",
      "\nDuring handling of the above exception, another exception occurred:\n",
      "\u001b[1;31mPermissionError\u001b[0m                           Traceback (most recent call last)",
      "\u001b[1;32m<timed eval>\u001b[0m in \u001b[0;36m<module>\u001b[1;34m\u001b[0m\n",
      "\u001b[1;32mC:\\Google Drive\\AlgoTrading\\km-development\\kmModelBuilder01\\tradingbot.py\u001b[0m in \u001b[0;36mlearn\u001b[1;34m(self, episodes)\u001b[0m\n\u001b[0;32m    463\u001b[0m                     \u001b[1;31m# print('balanceOfTrades: ', balanceOfTrades)\u001b[0m\u001b[1;33m\u001b[0m\u001b[1;33m\u001b[0m\u001b[1;33m\u001b[0m\u001b[0m\n\u001b[0;32m    464\u001b[0m                     \u001b[0mself\u001b[0m\u001b[1;33m.\u001b[0m\u001b[0marrayBalanceOfTrades\u001b[0m\u001b[1;33m.\u001b[0m\u001b[0mappend\u001b[0m\u001b[1;33m(\u001b[0m\u001b[0mbalanceOfTrades\u001b[0m\u001b[1;33m)\u001b[0m\u001b[1;33m\u001b[0m\u001b[1;33m\u001b[0m\u001b[0m\n\u001b[1;32m--> 465\u001b[1;33m                     np.savetxt(\"arrayBalanceOfTrades.csv\", \n\u001b[0m\u001b[0;32m    466\u001b[0m                                \u001b[0mself\u001b[0m\u001b[1;33m.\u001b[0m\u001b[0marrayBalanceOfTrades\u001b[0m\u001b[1;33m,\u001b[0m\u001b[1;33m\u001b[0m\u001b[1;33m\u001b[0m\u001b[0m\n\u001b[0;32m    467\u001b[0m                                \u001b[0mdelimiter\u001b[0m \u001b[1;33m=\u001b[0m\u001b[1;34m\", \"\u001b[0m\u001b[1;33m,\u001b[0m\u001b[1;33m\u001b[0m\u001b[1;33m\u001b[0m\u001b[0m\n",
      "\u001b[1;32m<__array_function__ internals>\u001b[0m in \u001b[0;36msavetxt\u001b[1;34m(*args, **kwargs)\u001b[0m\n",
      "\u001b[1;32mD:\\DProgramFiles\\Anaconda3\\envs\\KM-Trading\\lib\\site-packages\\numpy\\lib\\npyio.py\u001b[0m in \u001b[0;36msavetxt\u001b[1;34m(fname, X, fmt, delimiter, newline, header, footer, comments, encoding)\u001b[0m\n\u001b[0;32m   1445\u001b[0m     \u001b[1;32mfinally\u001b[0m\u001b[1;33m:\u001b[0m\u001b[1;33m\u001b[0m\u001b[1;33m\u001b[0m\u001b[0m\n\u001b[0;32m   1446\u001b[0m         \u001b[1;32mif\u001b[0m \u001b[0mown_fh\u001b[0m\u001b[1;33m:\u001b[0m\u001b[1;33m\u001b[0m\u001b[1;33m\u001b[0m\u001b[0m\n\u001b[1;32m-> 1447\u001b[1;33m             \u001b[0mfh\u001b[0m\u001b[1;33m.\u001b[0m\u001b[0mclose\u001b[0m\u001b[1;33m(\u001b[0m\u001b[1;33m)\u001b[0m\u001b[1;33m\u001b[0m\u001b[1;33m\u001b[0m\u001b[0m\n\u001b[0m\u001b[0;32m   1448\u001b[0m \u001b[1;33m\u001b[0m\u001b[0m\n\u001b[0;32m   1449\u001b[0m \u001b[1;33m\u001b[0m\u001b[0m\n",
      "\u001b[1;31mPermissionError\u001b[0m: [Errno 13] Permission denied"
     ]
    }
   ],
   "source": [
    "%time agent.learn(episodes)"
   ]
  },
  {
   "cell_type": "code",
   "execution_count": 51,
   "metadata": {},
   "outputs": [],
   "source": [
    "# agent.trewards"
   ]
  },
  {
   "cell_type": "code",
   "execution_count": 52,
   "metadata": {},
   "outputs": [],
   "source": [
    "# agent.arrayBalanceOfTrades"
   ]
  },
  {
   "cell_type": "code",
   "execution_count": 71,
   "metadata": {},
   "outputs": [
    {
     "name": "stdout",
     "output_type": "stream",
     "text": [
      "length of arrayBalanceOfTrades: 184379\n"
     ]
    }
   ],
   "source": [
    "print(f'length of arrayBalanceOfTrades: {len(agent.arrayBalanceOfTrades)}')"
   ]
  },
  {
   "cell_type": "code",
   "execution_count": 72,
   "metadata": {},
   "outputs": [
    {
     "data": {
      "text/plain": [
       "<function matplotlib.pyplot.show(close=None, block=None)>"
      ]
     },
     "execution_count": 72,
     "metadata": {},
     "output_type": "execute_result"
    },
    {
     "data": {
      "image/png": "[encoded data removed]",
      "text/plain": [
       "<Figure size 576x396 with 1 Axes>"
      ]
     },
     "metadata": {},
     "output_type": "display_data"
    }
   ],
   "source": [
    "plt.plot(agent.arrayBalanceOfTrades)\n",
    "plt.show"
   ]
  },
  {
   "cell_type": "code",
   "execution_count": 73,
   "metadata": {},
   "outputs": [
    {
     "name": "stdout",
     "output_type": "stream",
     "text": [
      "average of arrayBalanceOfTrades:  86.27592448160891\n"
     ]
    }
   ],
   "source": [
    "print('average of arrayBalanceOfTrades: ', sum(agent.arrayBalanceOfTrades)/len(agent.arrayBalanceOfTrades))"
   ]
  },
  {
   "cell_type": "code",
   "execution_count": 74,
   "metadata": {},
   "outputs": [
    {
     "name": "stdout",
     "output_type": "stream",
     "text": [
      "sum of arrayBalanceOfTrades:  15907468.67999457\n"
     ]
    }
   ],
   "source": [
    "print('sum of arrayBalanceOfTrades: ', sum(agent.arrayBalanceOfTrades))"
   ]
  },
  {
   "cell_type": "code",
   "execution_count": null,
   "metadata": {},
   "outputs": [],
   "source": []
  },
  {
   "cell_type": "code",
   "execution_count": 75,
   "metadata": {},
   "outputs": [
    {
     "name": "stdout",
     "output_type": "stream",
     "text": [
      "sum:  15907468.67999457\n"
     ]
    }
   ],
   "source": [
    "# pl.cumsum()\n",
    "print('sum: ', sum(agent.arrayBalanceOfTrades))\n"
   ]
  },
  {
   "cell_type": "code",
   "execution_count": 76,
   "metadata": {},
   "outputs": [
    {
     "data": {
      "image/png": "[encoded data removed]",
      "text/plain": [
       "<Figure size 720x432 with 1 Axes>"
      ]
     },
     "metadata": {},
     "output_type": "display_data"
    }
   ],
   "source": [
    "agent.plot_totalReward()"
   ]
  },
  {
   "cell_type": "code",
   "execution_count": 77,
   "metadata": {},
   "outputs": [
    {
     "data": {
      "image/png": "[encoded data removed]",
      "text/plain": [
       "<Figure size 720x432 with 1 Axes>"
      ]
     },
     "metadata": {},
     "output_type": "display_data"
    }
   ],
   "source": [
    "agent.a_plot_performance()"
   ]
  },
  {
   "cell_type": "code",
   "execution_count": 78,
   "metadata": {},
   "outputs": [
    {
     "data": {
      "text/plain": [
       "[0,\n",
       " -0.18000000000427008,\n",
       " -0.5100000000041405,\n",
       " -0.7200000000042905,\n",
       " -0.9000000000042974,\n",
       " -0.7200000000042905,\n",
       " -0.7500000000040075,\n",
       " -0.9300000000040143,\n",
       " -1.260000000004311,\n",
       " -1.3800000000044577,\n",
       " -1.5600000000044645,\n",
       " -1.8000000000043315,\n",
       " -1.710000000004328,\n",
       " -1.6200000000043246,\n",
       " -1.5600000000040382,\n",
       " -1.8300000000040484,\n",
       " -1.590000000003755,\n",
       " -1.3500000000034618,\n",
       " -1.590000000003755,\n",
       " -1.590000000003755,\n",
       " -1.7100000000034754,\n",
       " -1.7400000000036187,\n",
       " -1.8900000000034822,\n",
       " -2.040000000003346,\n",
       " -1.6800000000033322,\n",
       " -1.7700000000033356,\n",
       " -1.5900000000033288,\n",
       " -1.5600000000031855,\n",
       " -1.4100000000028956,\n",
       " -1.7700000000029092,\n",
       " -1.8000000000030525,\n",
       " -1.470000000003182,\n",
       " -1.2900000000031753,\n",
       " -1.6800000000029058,\n",
       " -1.8300000000027694,\n",
       " -1.950000000002916,\n",
       " -2.0700000000030627,\n",
       " -1.890000000003056,\n",
       " -2.2200000000029263,\n",
       " -2.0400000000029195,\n",
       " -2.4600000000032196,\n",
       " -2.5800000000033663,\n",
       " -2.9100000000032367,\n",
       " -3.2400000000035334,\n",
       " -3.09000000000367,\n",
       " -3.2700000000036766,\n",
       " -3.330000000003537,\n",
       " -3.00000000000324,\n",
       " -2.8200000000032333,\n",
       " -2.760000000003373,\n",
       " -2.700000000003513,\n",
       " -2.8800000000035197,\n",
       " -2.6100000000035095,\n",
       " -3.0900000000032435,\n",
       " -2.8200000000032333,\n",
       " -2.8500000000033765,\n",
       " -2.9100000000032367,\n",
       " -2.700000000003513,\n",
       " -2.6400000000036528,\n",
       " -2.460000000003646,\n",
       " -2.6100000000035095,\n",
       " -3.1200000000033867,\n",
       " -2.7900000000035163,\n",
       " -2.700000000003513,\n",
       " -2.5800000000033663,\n",
       " -2.6700000000033697,\n",
       " -2.700000000003513,\n",
       " -2.760000000003373,\n",
       " -1.860000000003339,\n",
       " -1.650000000003189,\n",
       " -1.7700000000029092,\n",
       " -1.5600000000027592,\n",
       " -1.3200000000028922,\n",
       " -1.2300000000028888,\n",
       " -0.9600000000028786,\n",
       " -0.8700000000028751,\n",
       " -0.8700000000028751,\n",
       " -0.810000000003015,\n",
       " -0.7500000000027285,\n",
       " -1.2000000000023192,\n",
       " -1.0200000000023124,\n",
       " -0.9600000000020259,\n",
       " -0.810000000001736,\n",
       " -0.7800000000015928,\n",
       " -0.4200000000015791,\n",
       " -0.4800000000014393,\n",
       " -0.6600000000014461,\n",
       " -0.7500000000014495,\n",
       " -0.690000000001163,\n",
       " -0.6300000000013029,\n",
       " -1.08000000000132,\n",
       " -1.320000000001187,\n",
       " -1.1700000000013233,\n",
       " -0.8700000000011698,\n",
       " -0.5400000000012994,\n",
       " -0.4800000000014393,\n",
       " -0.7500000000014495,\n",
       " -0.8700000000011698,\n",
       " -1.0800000000008936,\n",
       " -0.9000000000008868,\n",
       " -0.7500000000010232,\n",
       " -0.7500000000010232,\n",
       " -0.8700000000011698,\n",
       " -0.8700000000011698,\n",
       " -0.6000000000011596,\n",
       " -0.8400000000010266,\n",
       " -1.14000000000118,\n",
       " -1.1700000000013233,\n",
       " -0.8100000000013097,\n",
       " -0.7200000000013063,\n",
       " -0.6300000000013029,\n",
       " -0.8400000000014529,\n",
       " -0.9600000000015996,\n",
       " -0.9300000000014563,\n",
       " -1.0800000000017462,\n",
       " -1.2000000000014666,\n",
       " -1.50000000000162,\n",
       " -1.5300000000017633,\n",
       " -1.410000000002043,\n",
       " -1.4400000000021862,\n",
       " -1.4700000000023294,\n",
       " -1.5300000000021896,\n",
       " -1.3200000000020395,\n",
       " -1.5900000000020498,\n",
       " -1.7100000000021964,\n",
       " -1.6800000000020532,\n",
       " -1.5900000000020498,\n",
       " -1.65000000000191,\n",
       " -1.5000000000020464,\n",
       " -1.3200000000020395,\n",
       " -1.6800000000020532,\n",
       " -1.5900000000020498,\n",
       " -1.5900000000020498,\n",
       " -1.6200000000017667,\n",
       " -1.5900000000016234,\n",
       " -1.3200000000016132,\n",
       " -1.1400000000016064,\n",
       " -1.29000000000147,\n",
       " -1.5900000000016234,\n",
       " -2.0100000000014973,\n",
       " -2.160000000001787,\n",
       " -2.3100000000016507,\n",
       " -2.340000000001794,\n",
       " -2.310000000002077,\n",
       " -2.460000000002367,\n",
       " -3.0300000000021043,\n",
       " -2.8200000000023806,\n",
       " -3.540000000002408,\n",
       " -4.680000000002309,\n",
       " -4.620000000002449,\n",
       " -4.8300000000021726,\n",
       " -4.800000000002029,\n",
       " -5.1300000000019,\n",
       " -4.8300000000021726,\n",
       " -4.950000000001893,\n",
       " -4.8600000000018895,\n",
       " -4.740000000002169,\n",
       " -4.530000000002019,\n",
       " -4.920000000002176,\n",
       " -4.920000000002176,\n",
       " -5.19000000000176,\n",
       " -5.34000000000205,\n",
       " -5.34000000000205,\n",
       " -5.34000000000205,\n",
       " -5.280000000001763,\n",
       " -5.490000000001487,\n",
       " -5.31000000000148,\n",
       " -5.25000000000162,\n",
       " -5.40000000000191,\n",
       " -5.310000000002333,\n",
       " -5.370000000002193,\n",
       " -5.520000000002057,\n",
       " -5.430000000002053,\n",
       " -5.28000000000219,\n",
       " -5.5500000000022,\n",
       " -5.67000000000192,\n",
       " -5.520000000002057,\n",
       " -5.460000000002196,\n",
       " -5.460000000002196,\n",
       " -5.580000000002343,\n",
       " -5.880000000002497,\n",
       " -5.880000000002497,\n",
       " -6.060000000002503,\n",
       " -6.4800000000028035,\n",
       " -6.330000000002514,\n",
       " -6.420000000002517,\n",
       " -6.24000000000251,\n",
       " -6.000000000002217,\n",
       " -6.030000000001934,\n",
       " -6.2400000000016576,\n",
       " -6.330000000001661,\n",
       " -6.330000000001661,\n",
       " -6.360000000001804,\n",
       " -6.810000000001821,\n",
       " -6.810000000001821,\n",
       " -6.810000000001821,\n",
       " -6.810000000001821,\n",
       " -6.990000000001828,\n",
       " -6.8400000000019645,\n",
       " -6.990000000001828,\n",
       " -6.720000000001818,\n",
       " -6.720000000001818,\n",
       " -7.560000000001992,\n",
       " -7.950000000002149,\n",
       " -8.220000000002159,\n",
       " -8.040000000002152,\n",
       " -7.620000000002278,\n",
       " -7.710000000002282,\n",
       " -7.800000000002285,\n",
       " -7.740000000001999,\n",
       " -7.8900000000022885,\n",
       " -7.920000000002005,\n",
       " -8.310000000001736,\n",
       " -8.67000000000175,\n",
       " -8.4600000000016,\n",
       " -8.310000000001736,\n",
       " -8.250000000001876,\n",
       " -7.950000000001722,\n",
       " -7.980000000001439,\n",
       " -7.740000000001572,\n",
       " -7.650000000001569,\n",
       " -7.590000000001709,\n",
       " -7.410000000001702,\n",
       " -7.440000000001845,\n",
       " -7.380000000001985,\n",
       " -7.4400000000022715,\n",
       " -7.770000000002568,\n",
       " -7.980000000002292,\n",
       " -8.010000000002009,\n",
       " -7.950000000001722,\n",
       " -7.7700000000017155,\n",
       " -8.070000000001869,\n",
       " -8.160000000001872,\n",
       " -8.040000000001726,\n",
       " -8.040000000001726,\n",
       " -8.40000000000174,\n",
       " -8.4600000000016,\n",
       " -8.340000000001453,\n",
       " -8.280000000001166,\n",
       " -8.0400000000013,\n",
       " -8.25000000000145,\n",
       " -8.070000000001443,\n",
       " -8.340000000001453,\n",
       " -8.25000000000145,\n",
       " -8.160000000001446,\n",
       " -8.0400000000013,\n",
       " -7.6500000000011426,\n",
       " -7.740000000001146,\n",
       " -7.590000000000856,\n",
       " -7.170000000000982,\n",
       " -7.140000000000839,\n",
       " -6.870000000000829,\n",
       " -6.300000000001091,\n",
       " -6.060000000001224,\n",
       " -5.940000000001078,\n",
       " -5.790000000001214,\n",
       " -5.730000000001354,\n",
       " -5.790000000001214,\n",
       " -5.610000000001207,\n",
       " -5.970000000001221,\n",
       " -6.060000000000798,\n",
       " -5.490000000000634,\n",
       " -5.040000000000617,\n",
       " -5.580000000000638,\n",
       " -5.5500000000004945,\n",
       " -5.220000000000624,\n",
       " -5.040000000000617,\n",
       " -4.890000000000754,\n",
       " -5.0100000000009,\n",
       " -4.80000000000075,\n",
       " -4.920000000000897,\n",
       " -4.890000000000754,\n",
       " -4.920000000000471,\n",
       " -5.010000000000474,\n",
       " -5.070000000000761,\n",
       " -4.980000000000757,\n",
       " -5.0100000000009,\n",
       " -5.100000000000904,\n",
       " -5.160000000000764,\n",
       " -5.1000000000004775,\n",
       " -5.190000000000481,\n",
       " -5.040000000000617,\n",
       " -4.770000000000607,\n",
       " -4.890000000000754,\n",
       " -4.770000000001033,\n",
       " -4.7400000000013165,\n",
       " -4.77000000000146,\n",
       " -4.680000000001456,\n",
       " -4.7100000000016,\n",
       " -4.620000000001596,\n",
       " -4.620000000001596,\n",
       " -4.5000000000014495,\n",
       " -4.320000000001443,\n",
       " -4.380000000001303,\n",
       " -4.410000000001446,\n",
       " -4.320000000001443,\n",
       " -3.930000000001286,\n",
       " -3.930000000001286,\n",
       " -3.7200000000011357,\n",
       " -3.930000000001286,\n",
       " -4.050000000001006,\n",
       " -4.26000000000073,\n",
       " -4.26000000000073,\n",
       " -3.690000000000566,\n",
       " -3.870000000000573,\n",
       " -3.810000000000713,\n",
       " -3.7800000000005696,\n",
       " -3.7500000000004263,\n",
       " -3.7200000000007094,\n",
       " -3.5100000000005593,\n",
       " -3.5100000000005593,\n",
       " -3.690000000000566,\n",
       " -3.7500000000004263,\n",
       " -3.480000000000416,\n",
       " -3.420000000000556,\n",
       " -3.480000000000416,\n",
       " -3.4200000000001296,\n",
       " -3.480000000000416,\n",
       " -3.5700000000004195,\n",
       " -3.5100000000005593,\n",
       " -3.420000000000556,\n",
       " -3.7500000000004263,\n",
       " -4.530000000000314,\n",
       " -5.3400000000003445,\n",
       " -5.700000000000358,\n",
       " -5.3400000000003445,\n",
       " -5.310000000000201,\n",
       " -5.250000000000341,\n",
       " -5.370000000000488,\n",
       " -5.400000000000631,\n",
       " -5.340000000000771,\n",
       " -5.280000000000484,\n",
       " -5.190000000000481,\n",
       " -5.130000000000621,\n",
       " -5.010000000000474,\n",
       " -4.620000000000317,\n",
       " -4.950000000000188,\n",
       " -4.950000000000188,\n",
       " -5.069999999999908,\n",
       " -4.950000000000188,\n",
       " -5.010000000000048,\n",
       " -5.069999999999908,\n",
       " -5.129999999999768,\n",
       " -5.039999999999765,\n",
       " -5.039999999999765,\n",
       " -4.769999999999754,\n",
       " -4.499999999999744,\n",
       " -4.259999999999877,\n",
       " -4.7400000000000375,\n",
       " -4.439999999999884,\n",
       " -4.889999999999901,\n",
       " -4.950000000000188,\n",
       " -4.890000000000327,\n",
       " -5.220000000000198,\n",
       " -5.400000000000205,\n",
       " -5.429999999999922,\n",
       " -5.609999999999928,\n",
       " -5.789999999999935,\n",
       " -5.850000000000222,\n",
       " -6.090000000000515,\n",
       " -5.940000000000225,\n",
       " -6.120000000000232,\n",
       " -6.000000000000085,\n",
       " -6.120000000000232,\n",
       " -5.970000000000368,\n",
       " -6.000000000000512,\n",
       " -5.850000000000648,\n",
       " -5.880000000000791,\n",
       " -6.030000000000655,\n",
       " -6.060000000000798,\n",
       " -6.030000000000655,\n",
       " -5.640000000000498,\n",
       " -5.610000000000355,\n",
       " -5.3400000000003445,\n",
       " -5.520000000000351,\n",
       " -5.5500000000004945,\n",
       " -5.790000000000788,\n",
       " -5.760000000000645,\n",
       " -5.850000000000648,\n",
       " -5.910000000000508,\n",
       " -5.640000000000498,\n",
       " -5.700000000000784,\n",
       " -5.820000000000505,\n",
       " -5.670000000000641,\n",
       " -5.670000000000641,\n",
       " -5.520000000000778,\n",
       " -5.580000000000638,\n",
       " -5.250000000000767,\n",
       " -5.2200000000010505,\n",
       " -5.190000000000907,\n",
       " -4.95000000000104,\n",
       " -4.53000000000074,\n",
       " -4.47000000000088,\n",
       " -4.650000000000887,\n",
       " -4.830000000000894,\n",
       " -4.920000000000897,\n",
       " -4.830000000000894,\n",
       " -5.070000000000761,\n",
       " -4.950000000000614,\n",
       " -5.1000000000004775,\n",
       " -5.040000000000617,\n",
       " -5.460000000000491,\n",
       " -5.580000000000638,\n",
       " -5.640000000000498,\n",
       " -5.670000000000641,\n",
       " -5.1000000000004775,\n",
       " -5.160000000000338,\n",
       " -5.010000000000474,\n",
       " -4.80000000000075,\n",
       " -5.490000000000634,\n",
       " -5.280000000000911,\n",
       " -5.580000000000638,\n",
       " -5.520000000000778,\n",
       " -5.400000000001057,\n",
       " -5.400000000001057,\n",
       " -5.340000000000771,\n",
       " -5.490000000001061,\n",
       " -5.790000000001214,\n",
       " -5.250000000001194,\n",
       " -5.580000000001064,\n",
       " -5.730000000001354,\n",
       " -5.970000000001221,\n",
       " -6.240000000001231,\n",
       " -6.150000000001228,\n",
       " -5.940000000001078,\n",
       " -6.030000000001081,\n",
       " -6.030000000001081,\n",
       " -6.270000000000948,\n",
       " -6.240000000000805,\n",
       " -6.240000000000805,\n",
       " -6.390000000001095,\n",
       " -6.300000000001091,\n",
       " -6.510000000000815,\n",
       " -6.720000000000539,\n",
       " -6.780000000000825,\n",
       " -7.2000000000011255,\n",
       " -7.4400000000009925,\n",
       " -7.4400000000009925,\n",
       " -7.740000000001146,\n",
       " -7.770000000001289,\n",
       " -7.770000000001289,\n",
       " -7.410000000001276,\n",
       " -7.320000000001272,\n",
       " -7.080000000001405,\n",
       " -7.110000000001548,\n",
       " -6.630000000001388,\n",
       " -6.5100000000012415,\n",
       " -6.5100000000012415,\n",
       " -6.480000000001098,\n",
       " -6.540000000000958,\n",
       " -6.480000000001098,\n",
       " -6.510000000000815,\n",
       " -6.510000000000815,\n",
       " -6.870000000000829,\n",
       " -7.620000000000573,\n",
       " -7.830000000000723,\n",
       " -7.290000000000703,\n",
       " -6.690000000000822,\n",
       " -6.720000000000539,\n",
       " -6.360000000000525,\n",
       " -6.570000000000249,\n",
       " -6.630000000000109,\n",
       " -6.419999999999959,\n",
       " -6.149999999999949,\n",
       " -5.579999999999785,\n",
       " -5.039999999999765,\n",
       " -5.279999999999632,\n",
       " -5.099999999999625,\n",
       " -4.5299999999998875,\n",
       " -4.409999999999741,\n",
       " -4.499999999999744,\n",
       " -4.259999999999877,\n",
       " -3.96000000000015,\n",
       " -4.200000000000017,\n",
       " -4.410000000000167,\n",
       " -4.530000000000314,\n",
       " -4.590000000000174,\n",
       " -4.650000000000034,\n",
       " -4.770000000000181,\n",
       " -4.65000000000046,\n",
       " -4.920000000000471,\n",
       " -5.3400000000003445,\n",
       " -5.250000000000341,\n",
       " -5.220000000000198,\n",
       " -5.370000000000488,\n",
       " -5.640000000000498,\n",
       " -5.730000000000501,\n",
       " -5.760000000000645,\n",
       " -5.760000000000645,\n",
       " -5.640000000000498,\n",
       " -5.520000000000351,\n",
       " -5.760000000000218,\n",
       " -5.970000000000368,\n",
       " -5.820000000000505,\n",
       " -6.090000000000515,\n",
       " -6.390000000000242,\n",
       " -6.210000000000235,\n",
       " -6.000000000000085,\n",
       " -6.120000000000232,\n",
       " -6.060000000000372,\n",
       " -5.880000000000365,\n",
       " -5.820000000000505,\n",
       " -6.000000000000512,\n",
       " -6.510000000000815,\n",
       " -6.420000000000812,\n",
       " -6.300000000001091,\n",
       " -6.1500000000008015,\n",
       " -6.480000000000672,\n",
       " -6.540000000000532,\n",
       " -6.720000000000539,\n",
       " -6.8400000000006855,\n",
       " -6.780000000000825,\n",
       " -6.870000000000829,\n",
       " -6.750000000000682,\n",
       " -6.450000000000529,\n",
       " -6.6300000000005355,\n",
       " -6.6300000000005355,\n",
       " -6.720000000000539,\n",
       " -7.0800000000005525,\n",
       " -7.3200000000004195,\n",
       " -7.5600000000002865,\n",
       " -7.9200000000003,\n",
       " -7.680000000000433,\n",
       " -7.680000000000433,\n",
       " -7.230000000000416,\n",
       " -7.5600000000002865,\n",
       " -7.470000000000283,\n",
       " -7.350000000000136,\n",
       " -7.080000000000126,\n",
       " -7.049999999999983,\n",
       " -7.020000000000266,\n",
       " -7.020000000000266,\n",
       " -6.930000000000263,\n",
       " -6.750000000000256,\n",
       " -7.110000000000269,\n",
       " -7.0800000000005525,\n",
       " -6.8700000000004025,\n",
       " -7.110000000000269,\n",
       " -7.3200000000004195,\n",
       " -7.3200000000004195,\n",
       " -7.170000000000556,\n",
       " -7.3200000000004195,\n",
       " -7.290000000000276,\n",
       " -7.319999999999993,\n",
       " -7.350000000000136,\n",
       " -7.319999999999993,\n",
       " -7.5,\n",
       " -7.71000000000015,\n",
       " -7.890000000000157,\n",
       " -7.680000000000007,\n",
       " -7.82999999999987,\n",
       " -7.860000000000014,\n",
       " -7.709999999999724,\n",
       " -7.6799999999995805,\n",
       " -7.649999999999437,\n",
       " -7.6799999999995805,\n",
       " -7.589999999999577,\n",
       " -7.799999999999727,\n",
       " -7.82999999999987,\n",
       " -7.379999999999853,\n",
       " -7.919999999999874,\n",
       " -7.649999999999864,\n",
       " -7.739999999999867,\n",
       " -7.5,\n",
       " -7.590000000000003,\n",
       " -7.350000000000136,\n",
       " -7.5600000000002865,\n",
       " -8.010000000000304,\n",
       " -8.160000000000167,\n",
       " -8.070000000000164,\n",
       " -8.25000000000017,\n",
       " -8.04000000000002,\n",
       " -8.19000000000031,\n",
       " -8.010000000000304,\n",
       " -7.980000000000587,\n",
       " -7.80000000000058,\n",
       " -7.770000000000863,\n",
       " -7.770000000000863,\n",
       " -7.800000000001006,\n",
       " -7.710000000001003,\n",
       " -7.6800000000008595,\n",
       " -7.770000000000863,\n",
       " -8.01000000000073,\n",
       " -8.01000000000073,\n",
       " -7.9200000000007265,\n",
       " -7.860000000000866,\n",
       " -7.860000000000866,\n",
       " -8.100000000000733,\n",
       " -8.250000000000597,\n",
       " -8.3400000000006,\n",
       " -8.250000000000597,\n",
       " -8.310000000000883,\n",
       " -8.550000000001177,\n",
       " -8.550000000001177,\n",
       " -8.400000000001313,\n",
       " -8.31000000000131,\n",
       " -7.740000000001146,\n",
       " -8.22000000000088,\n",
       " -8.64000000000118,\n",
       " -8.64000000000118,\n",
       " -8.730000000001183,\n",
       " -8.43000000000103,\n",
       " -8.64000000000118,\n",
       " -8.580000000000894,\n",
       " -8.730000000000757,\n",
       " -8.640000000000754,\n",
       " -9.060000000000628,\n",
       " -9.120000000000488,\n",
       " -9.180000000000348,\n",
       " -9.120000000000488,\n",
       " -9.300000000000495,\n",
       " -9.150000000000631,\n",
       " -9.150000000000631,\n",
       " -9.090000000000344,\n",
       " -8.850000000000477,\n",
       " -8.850000000000477,\n",
       " -9.150000000000631,\n",
       " -9.300000000000495,\n",
       " -9.180000000000348,\n",
       " -9.000000000000341,\n",
       " -9.000000000000341,\n",
       " -8.73000000000033,\n",
       " -8.880000000000194,\n",
       " -8.760000000000474,\n",
       " -9.150000000000631,\n",
       " -9.510000000000645,\n",
       " -9.450000000000784,\n",
       " -9.630000000000791,\n",
       " -9.330000000000638,\n",
       " -9.570000000000505,\n",
       " -9.450000000000784,\n",
       " -9.750000000000512,\n",
       " -9.570000000000505,\n",
       " -9.720000000000368,\n",
       " -9.960000000000235,\n",
       " -10.020000000000522,\n",
       " -10.020000000000522,\n",
       " -10.080000000000382,\n",
       " -9.840000000000515,\n",
       " -9.540000000000362,\n",
       " -9.240000000000208,\n",
       " -9.240000000000208,\n",
       " -9.270000000000351,\n",
       " -9.510000000000218,\n",
       " -9.240000000000208,\n",
       " -9.570000000000078,\n",
       " -9.600000000000222,\n",
       " -9.539999999999935,\n",
       " -9.659999999999656,\n",
       " -9.539999999999935,\n",
       " -9.539999999999935,\n",
       " -9.479999999999649,\n",
       " -9.179999999999922,\n",
       " -9.089999999999918,\n",
       " -9.060000000000201,\n",
       " -8.970000000000198,\n",
       " -9.330000000000211,\n",
       " -9.150000000000205,\n",
       " -9.300000000000495,\n",
       " -9.180000000000348,\n",
       " -9.420000000000215,\n",
       " -9.269999999999925,\n",
       " -9.269999999999925,\n",
       " -9.269999999999925,\n",
       " -9.209999999999638,\n",
       " -9.239999999999782,\n",
       " -9.239999999999782,\n",
       " -8.879999999999768,\n",
       " -9.179999999999922,\n",
       " -9.119999999999635,\n",
       " -8.879999999999768,\n",
       " -8.549999999999898,\n",
       " -8.219999999999601,\n",
       " -8.729999999999905,\n",
       " -8.759999999999621,\n",
       " -8.729999999999478,\n",
       " -8.729999999999478,\n",
       " -8.699999999999335,\n",
       " -8.549999999999045,\n",
       " -8.609999999998905,\n",
       " -8.729999999999052,\n",
       " -8.609999999998905,\n",
       " -8.669999999998765,\n",
       " -8.669999999998765,\n",
       " -8.669999999998765,\n",
       " -8.639999999999048,\n",
       " -8.189999999999031,\n",
       " -7.919999999999021,\n",
       " -7.889999999998878,\n",
       " -7.5599999999990075,\n",
       " -7.589999999999151,\n",
       " -7.679999999999154,\n",
       " -7.589999999999151,\n",
       " -7.979999999999308,\n",
       " -8.129999999999598,\n",
       " -8.219999999999601,\n",
       " -8.309999999999604,\n",
       " -8.069999999999311,\n",
       " -8.069999999999311,\n",
       " -8.249999999999318,\n",
       " -8.069999999999311,\n",
       " -8.069999999999311,\n",
       " -8.189999999999458,\n",
       " -7.799999999999301,\n",
       " -7.13999999999956,\n",
       " -6.689999999999543,\n",
       " -6.959999999999553,\n",
       " -7.13999999999956,\n",
       " -7.34999999999971,\n",
       " -7.319999999999567,\n",
       " -7.049999999999557,\n",
       " -7.049999999999557,\n",
       " -6.86999999999955,\n",
       " -6.959999999999553,\n",
       " -6.92999999999941,\n",
       " -7.049999999999557,\n",
       " -6.959999999999553,\n",
       " -6.92999999999941,\n",
       " -6.92999999999941,\n",
       " -6.92999999999941,\n",
       " -7.13999999999956,\n",
       " -7.469999999999857,\n",
       " -7.590000000000003,\n",
       " -8.009999999999877,\n",
       " -8.04000000000002,\n",
       " -8.25000000000017,\n",
       " -8.310000000000457,\n",
       " -8.220000000000454,\n",
       " -8.28000000000074,\n",
       " -8.43000000000103,\n",
       " -8.400000000000887,\n",
       " -8.310000000000883,\n",
       " -8.190000000000737,\n",
       " -8.16000000000102,\n",
       " -8.070000000001016,\n",
       " -7.920000000001153,\n",
       " -7.770000000001289,\n",
       " -7.8900000000010095,\n",
       " -7.710000000001003,\n",
       " -7.830000000000723,\n",
       " -7.6800000000008595,\n",
       " -7.980000000001013,\n",
       " -8.070000000001016,\n",
       " -8.01000000000073,\n",
       " -8.01000000000073,\n",
       " -7.860000000000866,\n",
       " -8.22000000000088,\n",
       " -8.070000000001016,\n",
       " -8.250000000001023,\n",
       " -8.280000000001166,\n",
       " -8.31000000000131,\n",
       " -8.340000000001453,\n",
       " -8.430000000001456,\n",
       " -8.400000000001313,\n",
       " -8.0400000000013,\n",
       " -8.0400000000013,\n",
       " -7.890000000001436,\n",
       " -7.860000000001293,\n",
       " -8.16000000000102,\n",
       " -8.250000000001023,\n",
       " -8.460000000001173,\n",
       " -8.400000000001313,\n",
       " -8.550000000001603,\n",
       " -8.34000000000188,\n",
       " -8.370000000002022,\n",
       " -8.460000000002026,\n",
       " -8.370000000002022,\n",
       " -8.700000000001893,\n",
       " -8.640000000002033,\n",
       " -8.61000000000189,\n",
       " -8.580000000001746,\n",
       " -8.850000000001756,\n",
       " -8.790000000001896,\n",
       " -8.670000000002176,\n",
       " -8.160000000002299,\n",
       " -8.250000000002302,\n",
       " -8.370000000002449,\n",
       " -8.430000000002735,\n",
       " -7.770000000002568,\n",
       " -7.920000000002432,\n",
       " -7.950000000002149,\n",
       " -7.950000000002149,\n",
       " -7.980000000002292,\n",
       " -8.040000000002152,\n",
       " -8.040000000002152,\n",
       " -8.010000000002435,\n",
       " -7.890000000002715,\n",
       " -7.320000000002551,\n",
       " -7.110000000002827,\n",
       " -7.260000000002691,\n",
       " -7.110000000002827,\n",
       " -7.140000000002971,\n",
       " -6.780000000002957,\n",
       " -6.8100000000031,\n",
       " -6.87000000000296,\n",
       " -7.140000000002971,\n",
       " -7.02000000000325,\n",
       " -7.0500000000033936,\n",
       " -7.380000000003264,\n",
       " -7.260000000003117,\n",
       " -7.200000000003257,\n",
       " -7.140000000003397,\n",
       " -7.140000000003397,\n",
       " -6.96000000000339,\n",
       " -6.720000000003523,\n",
       " -6.69000000000338,\n",
       " -6.63000000000352,\n",
       " -6.84000000000367,\n",
       " -6.96000000000339,\n",
       " -6.930000000003673,\n",
       " -7.080000000003963,\n",
       " -7.2000000000036835,\n",
       " -7.32000000000383,\n",
       " -7.230000000003827,\n",
       " -6.870000000003813,\n",
       " -6.9600000000038165,\n",
       " -6.870000000003813,\n",
       " -7.11000000000368,\n",
       " -6.930000000003673,\n",
       " -6.96000000000339,\n",
       " -6.510000000003373,\n",
       " -6.48000000000323,\n",
       " -6.42000000000337,\n",
       " -6.270000000003506,\n",
       " -6.090000000003499,\n",
       " -6.570000000003233,\n",
       " -6.48000000000323,\n",
       " -6.510000000003373,\n",
       " -6.42000000000337,\n",
       " -6.390000000003226,\n",
       " -6.270000000003506,\n",
       " -6.78000000000381,\n",
       " -6.84000000000367,\n",
       " -6.330000000003793,\n",
       " -6.4800000000040825,\n",
       " -6.270000000003932,\n",
       " -6.090000000003926,\n",
       " -5.8800000000037755,\n",
       " -6.060000000003782,\n",
       " -6.510000000003799,\n",
       " -6.690000000003806,\n",
       " -6.690000000003806,\n",
       " -6.3600000000035095,\n",
       " -5.850000000003632,\n",
       " -5.8800000000037755,\n",
       " -5.8800000000037755,\n",
       " -6.3600000000035095,\n",
       " -6.330000000003366,\n",
       " -6.090000000003073,\n",
       " -6.12000000000279,\n",
       " -6.2400000000029365,\n",
       " -6.33000000000294,\n",
       " -6.840000000002817,\n",
       " -6.840000000002817,\n",
       " -7.290000000002834,\n",
       " -7.170000000003114,\n",
       " -7.350000000003121,\n",
       " -7.170000000003114,\n",
       " -6.570000000003233,\n",
       " -6.360000000003083,\n",
       " -6.570000000003233,\n",
       " -5.970000000003353,\n",
       " -6.57000000000366,\n",
       " -6.69000000000338,\n",
       " -6.6000000000033765,\n",
       " -6.63000000000352,\n",
       " -6.540000000003516,\n",
       " -6.540000000003516,\n",
       " -6.330000000003366,\n",
       " -6.42000000000337,\n",
       " -6.69000000000338,\n",
       " -6.630000000003093,\n",
       " -6.33000000000294,\n",
       " -5.820000000003063,\n",
       " -6.030000000003213,\n",
       " -5.7900000000029195,\n",
       " -5.7900000000029195,\n",
       " -5.820000000003063,\n",
       " -5.760000000003203,\n",
       " -5.460000000003475,\n",
       " -5.6700000000036255,\n",
       " -5.640000000003482,\n",
       " -5.6700000000036255,\n",
       " -5.970000000003779,\n",
       " -5.250000000004178,\n",
       " -5.400000000004042,\n",
       " -4.560000000003868,\n",
       " -4.230000000003571,\n",
       " -3.9000000000037005,\n",
       " -3.9000000000037005,\n",
       " -4.260000000003714,\n",
       " -3.810000000003697,\n",
       " -4.320000000003574,\n",
       " -4.470000000003438,\n",
       " -4.3800000000034345,\n",
       " -4.020000000003421,\n",
       " -3.780000000003554,\n",
       " -4.170000000003284,\n",
       " -3.9900000000032776,\n",
       " -3.690000000003124,\n",
       " -3.9900000000028513,\n",
       " -5.010000000002606,\n",
       " -5.370000000002619,\n",
       " -5.160000000002469,\n",
       " -5.070000000002466,\n",
       " -5.160000000002469,\n",
       " -5.160000000002469,\n",
       " -5.130000000002752,\n",
       " -5.340000000002902,\n",
       " -5.820000000003063,\n",
       " -5.610000000002913,\n",
       " -5.460000000003049,\n",
       " -5.040000000003175,\n",
       " -5.130000000003179,\n",
       " -6.090000000003073,\n",
       " -6.0000000000030695,\n",
       " -6.180000000003076,\n",
       " -6.180000000003076,\n",
       " -6.360000000003083,\n",
       " -6.0000000000030695,\n",
       " -6.2400000000029365,\n",
       " -6.180000000003076,\n",
       " -6.630000000003093,\n",
       " -6.21000000000322,\n",
       " -6.87000000000296,\n",
       " -6.990000000003107,\n",
       " -6.930000000002821,\n",
       " -6.9600000000025375,\n",
       " -6.780000000002531,\n",
       " -6.540000000002237,\n",
       " -6.45000000000266,\n",
       " -6.7200000000026705,\n",
       " -6.630000000002667,\n",
       " -6.930000000002394,\n",
       " -6.930000000002394,\n",
       " -6.900000000002677,\n",
       " -6.690000000002527,\n",
       " -6.7200000000026705,\n",
       " -6.7200000000026705,\n",
       " -6.510000000002947,\n",
       " -6.60000000000295,\n",
       " -6.8100000000031,\n",
       " -7.500000000002984,\n",
       " -7.5300000000031275,\n",
       " -7.650000000002848,\n",
       " -7.500000000002984,\n",
       " -7.440000000003124,\n",
       " -7.5600000000028444,\n",
       " -7.680000000002565,\n",
       " -8.820000000002892,\n",
       " -9.33000000000277,\n",
       " -9.450000000002916,\n",
       " -9.180000000002906,\n",
       " -9.300000000003052,\n",
       " -9.27000000000291,\n",
       " -9.600000000003206,\n",
       " -9.570000000003063,\n",
       " -9.780000000003213,\n",
       " -9.4200000000032,\n",
       " -9.150000000003189,\n",
       " -8.670000000003029,\n",
       " -8.610000000003168,\n",
       " -8.850000000003035,\n",
       " -9.210000000003049,\n",
       " -9.240000000003192,\n",
       " -9.570000000003489,\n",
       " -9.210000000003475,\n",
       " -9.240000000003192,\n",
       " -9.360000000003339,\n",
       " -9.180000000003332,\n",
       " -9.330000000003196,\n",
       " -9.030000000003042,\n",
       " -8.970000000003182,\n",
       " -8.910000000003322,\n",
       " -8.670000000003455,\n",
       " -9.090000000003755,\n",
       " -9.360000000003765,\n",
       " -9.390000000003909,\n",
       " -9.450000000003769,\n",
       " -9.300000000003905,\n",
       " -9.240000000004045,\n",
       " -9.240000000004045,\n",
       " -9.210000000003902,\n",
       " -9.090000000003755,\n",
       " -9.180000000003758,\n",
       " -9.090000000003755,\n",
       " -9.000000000003752,\n",
       " -9.180000000003758,\n",
       " -8.430000000003588,\n",
       " -8.070000000003574,\n",
       " -7.2000000000036835,\n",
       " -6.90000000000353,\n",
       " -6.63000000000352,\n",
       " -6.6000000000033765,\n",
       " -6.660000000003237,\n",
       " -6.510000000003373,\n",
       " -6.510000000003373,\n",
       " -6.84000000000367,\n",
       " -6.750000000003666,\n",
       " -6.810000000003527,\n",
       " ...]"
      ]
     },
     "execution_count": 78,
     "metadata": {},
     "output_type": "execute_result"
    }
   ],
   "source": [
    "agent.arrayBalanceOfTrades"
   ]
  },
  {
   "cell_type": "code",
   "execution_count": null,
   "metadata": {},
   "outputs": [],
   "source": []
  },
  {
   "cell_type": "code",
   "execution_count": 61,
   "metadata": {},
   "outputs": [],
   "source": [
    "# pklFile = '2021-01-01_2021-12-31_M1_A' + 'pkl'\n",
    "# csvFile = '2021-01-01_2021-12-31_M1_A.csv'"
   ]
  },
  {
   "cell_type": "code",
   "execution_count": 62,
   "metadata": {},
   "outputs": [],
   "source": [
    "# pathToCSV = Path('..').joinpath('OandaHistorical').joinpath('2021M1A_Raw').joinpath(csvFile)\n",
    "# print(pathToCSV)"
   ]
  },
  {
   "cell_type": "code",
   "execution_count": 63,
   "metadata": {},
   "outputs": [],
   "source": [
    "# dfCsv = pd.read_csv(pathToCSV)"
   ]
  },
  {
   "cell_type": "code",
   "execution_count": 64,
   "metadata": {},
   "outputs": [],
   "source": [
    "# dfCsv.head()"
   ]
  },
  {
   "cell_type": "code",
   "execution_count": 65,
   "metadata": {},
   "outputs": [],
   "source": [
    "# dfCsv.set_index('time', inplace = True)\n",
    "# dfCsv.index = pd.to_datetime(dfCsv.index)\n",
    "# dfCsv.index = dfCsv.index.tz_localize('GMT')\n",
    "# dfCsv.head()"
   ]
  },
  {
   "cell_type": "code",
   "execution_count": 66,
   "metadata": {},
   "outputs": [],
   "source": [
    "# dfCsv.drop('complete', 1, inplace = True)\n",
    "# dfCsv.head()"
   ]
  },
  {
   "cell_type": "code",
   "execution_count": 67,
   "metadata": {},
   "outputs": [],
   "source": [
    "# dfCsv.min()"
   ]
  },
  {
   "cell_type": "code",
   "execution_count": 68,
   "metadata": {},
   "outputs": [],
   "source": [
    "# dfCsv.max()"
   ]
  },
  {
   "cell_type": "code",
   "execution_count": 69,
   "metadata": {},
   "outputs": [],
   "source": [
    "# dfCsv.std()"
   ]
  },
  {
   "cell_type": "code",
   "execution_count": null,
   "metadata": {},
   "outputs": [],
   "source": []
  },
  {
   "cell_type": "code",
   "execution_count": null,
   "metadata": {},
   "outputs": [],
   "source": []
  },
  {
   "cell_type": "code",
   "execution_count": 2,
   "metadata": {},
   "outputs": [
    {
     "name": "stdout",
     "output_type": "stream",
     "text": [
      "Collecting schedule\n",
      "  Downloading schedule-1.1.0-py2.py3-none-any.whl (10 kB)\n",
      "Installing collected packages: schedule\n",
      "Successfully installed schedule-1.1.0\n"
     ]
    }
   ],
   "source": [
    "!pip install schedule\n"
   ]
  },
  {
   "cell_type": "code",
   "execution_count": 4,
   "metadata": {},
   "outputs": [],
   "source": [
    "def test():\n",
    "    print('every 5 seconds')"
   ]
  },
  {
   "cell_type": "code",
   "execution_count": 5,
   "metadata": {},
   "outputs": [
    {
     "ename": "NameError",
     "evalue": "name 'schedule' is not defined",
     "output_type": "error",
     "traceback": [
      "\u001b[1;31m---------------------------------------------------------------------------\u001b[0m",
      "\u001b[1;31mNameError\u001b[0m                                 Traceback (most recent call last)",
      "\u001b[1;32m~\\AppData\\Local\\Temp/ipykernel_162500/460840696.py\u001b[0m in \u001b[0;36m<module>\u001b[1;34m\u001b[0m\n\u001b[1;32m----> 1\u001b[1;33m \u001b[0mschedule\u001b[0m\u001b[1;33m.\u001b[0m\u001b[0mevery\u001b[0m\u001b[1;33m(\u001b[0m\u001b[1;36m4\u001b[0m\u001b[1;33m)\u001b[0m\u001b[1;33m.\u001b[0m\u001b[0msecond\u001b[0m\u001b[1;33m.\u001b[0m\u001b[0mdo\u001b[0m\u001b[1;33m(\u001b[0m\u001b[0mtest\u001b[0m\u001b[1;33m)\u001b[0m\u001b[1;33m\u001b[0m\u001b[1;33m\u001b[0m\u001b[0m\n\u001b[0m",
      "\u001b[1;31mNameError\u001b[0m: name 'schedule' is not defined"
     ]
    }
   ],
   "source": [
    "schedule.every(4).second.do(test)"
   ]
  },
  {
   "cell_type": "code",
   "execution_count": null,
   "metadata": {},
   "outputs": [],
   "source": []
  }
 ],
 "metadata": {
  "environment": {
   "name": "tf2-gpu.2-6.m79",
   "type": "gcloud",
   "uri": "gcr.io/deeplearning-platform-release/tf2-gpu.2-6:m79"
  },
  "kernelspec": {
   "display_name": "Python 3 (ipykernel)",
   "language": "python",
   "name": "python3"
  },
  "language_info": {
   "codemirror_mode": {
    "name": "ipython",
    "version": 3
   },
   "file_extension": ".py",
   "mimetype": "text/x-python",
   "name": "python",
   "nbconvert_exporter": "python",
   "pygments_lexer": "ipython3",
   "version": "3.8.11"
  }
 },
 "nbformat": 4,
 "nbformat_minor": 4
}
