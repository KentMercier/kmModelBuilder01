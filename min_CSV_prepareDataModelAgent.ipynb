{
 "cells": [
  {
   "cell_type": "markdown",
   "metadata": {},
   "source": [
    "# Prepare Data, Model, Agent"
   ]
  },
  {
   "cell_type": "markdown",
   "metadata": {},
   "source": [
    "# imports and setup"
   ]
  },
  {
   "cell_type": "code",
   "execution_count": 1,
   "metadata": {},
   "outputs": [],
   "source": [
    "# The following is needed in Jupyter labs for listing methods;\n",
    "\n",
    "# use dot then tab after object\n",
    "%config Completer.use_jedi = False"
   ]
  },
  {
   "cell_type": "markdown",
   "metadata": {},
   "source": [
    "### use tensorboard"
   ]
  },
  {
   "cell_type": "code",
   "execution_count": 2,
   "metadata": {},
   "outputs": [],
   "source": [
    "try:\n",
    "    import tensorboard\n",
    "except:\n",
    "    import pip\n",
    "    pip.main(['install', 'tensorboard'])\n",
    "    import tensorboard"
   ]
  },
  {
   "cell_type": "code",
   "execution_count": 3,
   "metadata": {
    "tags": []
   },
   "outputs": [],
   "source": [
    "%load_ext tensorboard"
   ]
  },
  {
   "cell_type": "code",
   "execution_count": 1,
   "metadata": {},
   "outputs": [
    {
     "name": "stderr",
     "output_type": "stream",
     "text": [
      "D:\\DProgramFiles\\Anaconda3\\envs\\KM-Trading\\lib\\site-packages\\numpy\\_distributor_init.py:30: UserWarning: loaded more than 1 DLL from .libs:\n",
      "D:\\DProgramFiles\\Anaconda3\\envs\\KM-Trading\\lib\\site-packages\\numpy\\.libs\\libopenblas.WCDJNK7YVMPZQ2ME2ZZHJJRJ3JIKNDB7.gfortran-win_amd64.dll\n",
      "D:\\DProgramFiles\\Anaconda3\\envs\\KM-Trading\\lib\\site-packages\\numpy\\.libs\\libopenblas.XWYDX2IKJW2NMTWSFYNGFUWKQU3LYTCZ.gfortran-win_amd64.dll\n",
      "  warnings.warn(\"loaded more than 1 DLL from .libs:\"\n"
     ]
    }
   ],
   "source": [
    "import os\n",
    "import time\n",
    "import numpy as np\n",
    "import pandas as pd\n",
    "from pprint import pprint\n",
    "%matplotlib inline\n",
    "from pylab import plt, mpl\n",
    "import pickle\n",
    "plt.style.use('seaborn')\n",
    "mpl.rcParams['savefig.dpi'] = 300\n",
    "mpl.rcParams['font.family'] = 'serif'\n",
    "pd.set_option('mode.chained_assignment', None)\n",
    "pd.set_option('display.float_format', '{:.5f}'.format)\n",
    "np.set_printoptions(suppress=True, precision=4)\n",
    "os.environ['PYTHONHASHSEED'] = '0'\n",
    "\n",
    "import datetime as datetime\n",
    "from datetime import date"
   ]
  },
  {
   "cell_type": "code",
   "execution_count": 5,
   "metadata": {},
   "outputs": [],
   "source": [
    "import warnings\n",
    "warnings.filterwarnings('ignore')"
   ]
  },
  {
   "cell_type": "code",
   "execution_count": 6,
   "metadata": {},
   "outputs": [],
   "source": [
    "# import tensorflow as tf"
   ]
  },
  {
   "cell_type": "code",
   "execution_count": 7,
   "metadata": {},
   "outputs": [],
   "source": [
    "# tf.__version__"
   ]
  },
  {
   "cell_type": "code",
   "execution_count": 8,
   "metadata": {},
   "outputs": [],
   "source": [
    "# from tensorflow import keras\n",
    "# from tensorflow.keras import layers"
   ]
  },
  {
   "cell_type": "markdown",
   "metadata": {},
   "source": [
    "# Set up Features from columns"
   ]
  },
  {
   "cell_type": "code",
   "execution_count": 8,
   "metadata": {
    "tags": []
   },
   "outputs": [],
   "source": [
    "features =[\n",
    "    'o',\n",
    "     'h',\n",
    "     'l',\n",
    "     'c',\n",
    "     'volume',\n",
    "     'r',\n",
    "     'sma',\n",
    "     'min',\n",
    "     'max',\n",
    "     'mom',\n",
    "     'std',\n",
    "     'd',\n",
    "     'o_lag_1',\n",
    "     'o_lag_2',\n",
    "     'o_lag_3',\n",
    "     'o_lag_4',\n",
    "     'o_lag_5',\n",
    "     'h_lag_1',\n",
    "     'h_lag_2',\n",
    "     'h_lag_3',\n",
    "     'h_lag_4',\n",
    "     'h_lag_5',\n",
    "     'l_lag_1',\n",
    "     'l_lag_2',\n",
    "     'l_lag_3',\n",
    "     'l_lag_4',\n",
    "     'l_lag_5',\n",
    "     'c_lag_1',\n",
    "     'c_lag_2',\n",
    "     'c_lag_3',\n",
    "     'c_lag_4',\n",
    "     'c_lag_5',\n",
    "     'volume_lag_1',\n",
    "     'volume_lag_2',\n",
    "     'volume_lag_3',\n",
    "     'volume_lag_4',\n",
    "     'volume_lag_5',\n",
    "     'r_lag_1',\n",
    "     'r_lag_2',\n",
    "     'r_lag_3',\n",
    "     'r_lag_4',\n",
    "     'r_lag_5',\n",
    "     'sma_lag_1',\n",
    "     'sma_lag_2',\n",
    "     'sma_lag_3',\n",
    "     'sma_lag_4',\n",
    "     'sma_lag_5',\n",
    "     'min_lag_1',\n",
    "     'min_lag_2',\n",
    "     'min_lag_3',\n",
    "     'min_lag_4',\n",
    "     'min_lag_5',\n",
    "     'max_lag_1',\n",
    "     'max_lag_2',\n",
    "     'max_lag_3',\n",
    "     'max_lag_4',\n",
    "     'max_lag_5',\n",
    "     'mom_lag_1',\n",
    "     'mom_lag_2',\n",
    "     'mom_lag_3',\n",
    "     'mom_lag_4',\n",
    "     'mom_lag_5',\n",
    "     'std_lag_1',\n",
    "     'std_lag_2',\n",
    "     'std_lag_3',\n",
    "     'std_lag_4',\n",
    "     'std_lag_5',\n",
    "     'd_lag_1',\n",
    "     'd_lag_2',\n",
    "     'd_lag_3',\n",
    "     'd_lag_4',\n",
    "     'd_lag_5'\n",
    "]"
   ]
  },
  {
   "cell_type": "code",
   "execution_count": 9,
   "metadata": {},
   "outputs": [
    {
     "data": {
      "text/plain": [
       "72"
      ]
     },
     "execution_count": 9,
     "metadata": {},
     "output_type": "execute_result"
    }
   ],
   "source": [
    "len(features)"
   ]
  },
  {
   "cell_type": "markdown",
   "metadata": {},
   "source": [
    "# Set up learning, validation and testing datasets\n",
    "based on dates"
   ]
  },
  {
   "cell_type": "code",
   "execution_count": null,
   "metadata": {},
   "outputs": [],
   "source": []
  },
  {
   "cell_type": "code",
   "execution_count": 10,
   "metadata": {
    "tags": []
   },
   "outputs": [],
   "source": [
    "import datetime\n",
    "import pytz"
   ]
  },
  {
   "cell_type": "markdown",
   "metadata": {},
   "source": [
    "get saved features"
   ]
  },
  {
   "cell_type": "code",
   "execution_count": 11,
   "metadata": {},
   "outputs": [
    {
     "data": {
      "text/plain": [
       "72"
      ]
     },
     "execution_count": 11,
     "metadata": {},
     "output_type": "execute_result"
    }
   ],
   "source": [
    "len(features)"
   ]
  },
  {
   "cell_type": "code",
   "execution_count": 12,
   "metadata": {
    "tags": []
   },
   "outputs": [
    {
     "name": "stdout",
     "output_type": "stream",
     "text": [
      "startLearningDate:  2021-01-01 00:00:00\n",
      "endLearningDate:  2021-01-04 00:00:00\n",
      "startValDate 2021-01-05 00:00:00\n",
      "endValDate 2021-01-06 00:00:00\n",
      "startTestDate:  2021-01-07 00:00:00\n",
      "endTestDate:  2021-01-08 00:00:00\n"
     ]
    }
   ],
   "source": [
    "## set up Learning environment dates\n",
    "startLearningDate =datetime.datetime(2021, 1, 1,0,0,0)\n",
    "lastDayInData =datetime.datetime(2021, 10, 1,0,0,0)\n",
    "lastDayInData = lastDayInData.combine(lastDayInData, lastDayInData.min.time())\n",
    "# endLearningDate = startLearningDate + datetime.timedelta(days = 30)\n",
    "endLearningDate = startLearningDate + datetime.timedelta(days = 3)\n",
    "\n",
    "print('startLearningDate: ', startLearningDate)\n",
    "print('endLearningDate: ', endLearningDate)\n",
    "    \n",
    "    \n",
    "### set up validation environment dates\n",
    "startValDate = endLearningDate + datetime.timedelta(1)\n",
    "print('startValDate', startValDate)\n",
    "# endValDate = startValDate + datetime.timedelta(10)\n",
    "endValDate = startValDate + datetime.timedelta(1)\n",
    "\n",
    "print('endValDate', endValDate)\n",
    "\n",
    "### set up test environment dates\n",
    "startTestDate = endValDate + datetime.timedelta(1)\n",
    "print('startTestDate: ', startTestDate)\n",
    "# endTestDate = startTestDate + datetime.timedelta(10)\n",
    "endTestDate = startTestDate + datetime.timedelta(1)\n",
    "\n",
    "print('endTestDate: ', endTestDate)\n",
    "\n",
    "### set up environment start and end counts when using number index\n",
    "# startLearningDate = 0\n",
    "# startLearningDate = 0\n",
    "# endLearningDate = int(data.shape[0] *.800000)\n",
    "# etc.\n"
   ]
  },
  {
   "cell_type": "code",
   "execution_count": 13,
   "metadata": {},
   "outputs": [],
   "source": [
    "symbol = 'USD_JPY'\n",
    "window = 5\n",
    "lags = 5\n",
    "rows = 1\n",
    "granularity = 'M1'\n",
    "price = 'A'\n",
    "leverage = 30\n",
    "min_accuracy=0.10,\n",
    "min_performance=0.85\n"
   ]
  },
  {
   "cell_type": "code",
   "execution_count": 14,
   "metadata": {},
   "outputs": [],
   "source": [
    "try:\n",
    "    import v20\n",
    "except:\n",
    "    import pip\n",
    "    pip.main(['install', 'v20'])\n",
    "    import V20"
   ]
  },
  {
   "cell_type": "code",
   "execution_count": 15,
   "metadata": {},
   "outputs": [],
   "source": [
    "try:\n",
    "    import tensorflow\n",
    "except:\n",
    "    import pip\n",
    "    pip.main(['install', 'tensorflow'])\n",
    "    import tensorflow"
   ]
  },
  {
   "cell_type": "code",
   "execution_count": 16,
   "metadata": {},
   "outputs": [],
   "source": [
    "\n",
    "try:\n",
    "    import pyvirtualdisplay\n",
    "except:\n",
    "    import pip\n",
    "    pip.main(['install', 'pyvirtualdisplay'])\n",
    "    import pyvirtualdisplay\n"
   ]
  },
  {
   "cell_type": "code",
   "execution_count": 17,
   "metadata": {},
   "outputs": [],
   "source": [
    "import modelBuilderEnv as mbe"
   ]
  },
  {
   "cell_type": "code",
   "execution_count": null,
   "metadata": {},
   "outputs": [],
   "source": [
    "mu = "
   ]
  },
  {
   "cell_type": "code",
   "execution_count": 18,
   "metadata": {},
   "outputs": [],
   "source": [
    "# from importlib import reload\n",
    "# reload(mbe)\n",
    "# import modelBuilderEnv as mbe"
   ]
  },
  {
   "cell_type": "code",
   "execution_count": 19,
   "metadata": {},
   "outputs": [
    {
     "name": "stdout",
     "output_type": "stream",
     "text": [
      "HISTORICAL DATA WAS COLLECTED\n"
     ]
    }
   ],
   "source": [
    "learn_env = mbe.ModelBuilderEnv(\n",
    "    symbol=symbol,\n",
    "    start = startLearningDate,\n",
    "    end = endLearningDate,\n",
    "    granularity= granularity,\n",
    "    price= price,\n",
    "    features=features,\n",
    "    window=window,\n",
    "    lags=lags,\n",
    "    rows = rows,\n",
    "    leverage=leverage,\n",
    "    min_accuracy= min_accuracy,\n",
    "    min_performance=min_performance,\n",
    ")"
   ]
  },
  {
   "cell_type": "code",
   "execution_count": 20,
   "metadata": {},
   "outputs": [
    {
     "data": {
      "text/plain": [
       "(1,)"
      ]
     },
     "execution_count": 20,
     "metadata": {},
     "output_type": "execute_result"
    }
   ],
   "source": [
    "learn_env.observation_space.shape"
   ]
  },
  {
   "cell_type": "code",
   "execution_count": 21,
   "metadata": {},
   "outputs": [
    {
     "data": {
      "text/plain": [
       "2"
      ]
     },
     "execution_count": 21,
     "metadata": {},
     "output_type": "execute_result"
    }
   ],
   "source": [
    "learn_env.action_space.n"
   ]
  },
  {
   "cell_type": "code",
   "execution_count": 22,
   "metadata": {},
   "outputs": [
    {
     "data": {
      "text/plain": [
       "0"
      ]
     },
     "execution_count": 22,
     "metadata": {},
     "output_type": "execute_result"
    }
   ],
   "source": [
    "a = learn_env.action_space.sample()\n",
    "a"
   ]
  },
  {
   "cell_type": "code",
   "execution_count": 23,
   "metadata": {},
   "outputs": [],
   "source": [
    "# state, reward, done, info = learn_env.step(a)"
   ]
  },
  {
   "cell_type": "code",
   "execution_count": 24,
   "metadata": {},
   "outputs": [
    {
     "data": {
      "text/plain": [
       "5"
      ]
     },
     "execution_count": 24,
     "metadata": {},
     "output_type": "execute_result"
    }
   ],
   "source": [
    "learn_env.window"
   ]
  },
  {
   "cell_type": "code",
   "execution_count": 25,
   "metadata": {},
   "outputs": [],
   "source": [
    "# learn_env.data.info()"
   ]
  },
  {
   "cell_type": "code",
   "execution_count": 26,
   "metadata": {},
   "outputs": [
    {
     "data": {
      "text/plain": [
       "array([33, 27], dtype=int64)"
      ]
     },
     "execution_count": 26,
     "metadata": {},
     "output_type": "execute_result"
    }
   ],
   "source": [
    "np.bincount(learn_env.data['d'])"
   ]
  },
  {
   "cell_type": "code",
   "execution_count": 27,
   "metadata": {},
   "outputs": [
    {
     "name": "stdout",
     "output_type": "stream",
     "text": [
      "HISTORICAL DATA WAS COLLECTED\n"
     ]
    }
   ],
   "source": [
    "#                   start=f'{date} 13:00:00',\n",
    "#                   end=f'{date} 14:00:00',\n",
    "# the minimum accuracy and performance are set to zero\n",
    "# since we are not training, but instead evaluating.\n",
    "\n",
    "valid_env = mbe.ModelBuilderEnv(\n",
    "    symbol=learn_env.symbol,\n",
    "    start = startValDate,\n",
    "    end = endValDate,\n",
    "    granularity=learn_env.granularity,\n",
    "    price=learn_env.price,\n",
    "    features=learn_env.features,\n",
    "    window=learn_env.window,\n",
    "    lags=learn_env.lags,\n",
    "    rows = learn_env.rows,\n",
    "    leverage=learn_env.leverage,\n",
    "    min_accuracy=0,\n",
    "    min_performance=0,\n",
    "    mu=learn_env.mu,\n",
    "    std=learn_env.std\n",
    "    )"
   ]
  },
  {
   "cell_type": "code",
   "execution_count": 28,
   "metadata": {},
   "outputs": [],
   "source": [
    "# valid_env.data.info()"
   ]
  },
  {
   "cell_type": "code",
   "execution_count": 29,
   "metadata": {},
   "outputs": [
    {
     "name": "stdout",
     "output_type": "stream",
     "text": [
      "HISTORICAL DATA WAS COLLECTED\n"
     ]
    }
   ],
   "source": [
    "#                   start=f'{date} 14:00:00',\n",
    "#                   end=f'{date} 17:00:00',\n",
    "#     start = f'{startTestDate} 08:00:00+00:00',\n",
    "#     end = f'{endTestDate} 13:00:00+00:00',\n",
    "test_env = mbe.ModelBuilderEnv(\n",
    "    symbol=learn_env.symbol,\n",
    "    start = startTestDate,\n",
    "    end = endTestDate,\n",
    "    granularity=learn_env.granularity,\n",
    "    price=learn_env.price,\n",
    "    features=learn_env.features,\n",
    "    window=learn_env.window,\n",
    "    lags=learn_env.lags,\n",
    "    leverage=learn_env.leverage,\n",
    "    rows = learn_env.rows,\n",
    "    min_accuracy=0,\n",
    "    min_performance=0,\n",
    "    mu=learn_env.mu,\n",
    "    std=learn_env.std\n",
    "    )"
   ]
  },
  {
   "cell_type": "code",
   "execution_count": 30,
   "metadata": {},
   "outputs": [],
   "source": [
    "# test_env.data.info()"
   ]
  },
  {
   "cell_type": "code",
   "execution_count": null,
   "metadata": {},
   "outputs": [],
   "source": []
  },
  {
   "cell_type": "code",
   "execution_count": 31,
   "metadata": {},
   "outputs": [
    {
     "data": {
      "image/png": "[encoded data removed]",
      "text/plain": [
       "<Figure size 720x432 with 1 Axes>"
      ]
     },
     "metadata": {},
     "output_type": "display_data"
    }
   ],
   "source": [
    "# plots the closing prices for learn env and testing data\n",
    "ax = learn_env.data['c'].plot(figsize=(10, 6))\n",
    "plt.axvline(learn_env.data.index[-1], ls='--')\n",
    "valid_env.data['c'].plot(ax=ax, style='-.')\n",
    "plt.axvline(valid_env.data.index[-1], ls='--')\n",
    "test_env.data['c'].plot(ax=ax, style='-.');"
   ]
  },
  {
   "cell_type": "code",
   "execution_count": null,
   "metadata": {},
   "outputs": [],
   "source": []
  },
  {
   "cell_type": "markdown",
   "metadata": {},
   "source": [
    "## TO DO: Does the closing prices show that prices almost always drop in the latter part of the week?"
   ]
  },
  {
   "cell_type": "code",
   "execution_count": 32,
   "metadata": {},
   "outputs": [],
   "source": [
    "# import kmV20"
   ]
  },
  {
   "cell_type": "markdown",
   "metadata": {
    "tags": []
   },
   "source": [
    "# ***** START create the model"
   ]
  },
  {
   "cell_type": "code",
   "execution_count": 33,
   "metadata": {},
   "outputs": [],
   "source": [
    "import tradingbot"
   ]
  },
  {
   "cell_type": "code",
   "execution_count": 34,
   "metadata": {},
   "outputs": [],
   "source": [
    "from importlib import reload\n",
    "reload(tradingbot)\n",
    "import tradingbot as tradingbot"
   ]
  },
  {
   "cell_type": "code",
   "execution_count": 35,
   "metadata": {},
   "outputs": [],
   "source": [
    "# import modelBuilderEnv as mbe"
   ]
  },
  {
   "cell_type": "code",
   "execution_count": 36,
   "metadata": {},
   "outputs": [],
   "source": [
    "# from importlib import reload\n",
    "# reload(mbe)\n",
    "# import modelBuilderEnv as mbe"
   ]
  },
  {
   "cell_type": "code",
   "execution_count": 37,
   "metadata": {},
   "outputs": [
    {
     "name": "stdout",
     "output_type": "stream",
     "text": [
      "2\n"
     ]
    }
   ],
   "source": [
    "print(learn_env.action_space.n)"
   ]
  },
  {
   "cell_type": "code",
   "execution_count": null,
   "metadata": {},
   "outputs": [],
   "source": []
  },
  {
   "cell_type": "code",
   "execution_count": 38,
   "metadata": {},
   "outputs": [
    {
     "name": "stdout",
     "output_type": "stream",
     "text": [
      "w0  0.9090909090909092\n",
      "w1  1.1111111111111112\n",
      "self.classWeights:  {0: 0.9090909090909092, 1: 1.1111111111111112}\n",
      "1- self.replayCounter:  0\n",
      "Num GPUs: 1\n"
     ]
    }
   ],
   "source": [
    "tradingbot.set_seeds(100)\n",
    "agent = tradingbot.TradingBot(learn_env = learn_env, valid_env = valid_env)"
   ]
  },
  {
   "cell_type": "code",
   "execution_count": 39,
   "metadata": {},
   "outputs": [],
   "source": [
    "# otb = OandaTradingBot('accountConfigs.cfg', agent, '1M',\n",
    "#                       1500, verbose=False)"
   ]
  },
  {
   "cell_type": "code",
   "execution_count": 40,
   "metadata": {},
   "outputs": [],
   "source": [
    "episodes = 20\n",
    "# episodes = 3"
   ]
  },
  {
   "cell_type": "code",
   "execution_count": 41,
   "metadata": {},
   "outputs": [],
   "source": [
    "# print(agent.arrayBalanceOfTrades)"
   ]
  },
  {
   "cell_type": "code",
   "execution_count": 42,
   "metadata": {},
   "outputs": [
    {
     "name": "stdout",
     "output_type": "stream",
     "text": [
      "0\n"
     ]
    }
   ],
   "source": [
    "print(sum(agent.trewards))"
   ]
  },
  {
   "cell_type": "code",
   "execution_count": 43,
   "metadata": {},
   "outputs": [
    {
     "data": {
      "text/plain": [
       "{0: 0.9090909090909092, 1: 1.1111111111111112}"
      ]
     },
     "execution_count": 43,
     "metadata": {},
     "output_type": "execute_result"
    }
   ],
   "source": [
    "agent.classWeights"
   ]
  },
  {
   "cell_type": "code",
   "execution_count": 44,
   "metadata": {},
   "outputs": [
    {
     "name": "stdout",
     "output_type": "stream",
     "text": [
      "_____________________________________________\n",
      "START EPISODE 1 of 20\n",
      "episode start time:  Saturday, March 19, 2022 09:17:44\n",
      "END OF EPISODE 1 of 20\n",
      "episode end time:  Saturday, March 19, 2022 09:17:44\n",
      "episode time duration:  0:00:00.164002\n",
      "End 1/20 episodes at Saturday, March 19, 2022 09:17:44 for a total of 0:00:00.164002 with the following balance of trades -0.8334202363595751 \n",
      "_____________________________________________\n",
      "epmod:  1\n",
      "episodes:  20\n",
      "True\n",
      "False\n",
      "False\n",
      "_____________________________________________\n",
      "START EPISODE 2 of 20\n",
      "episode start time:  Saturday, March 19, 2022 09:17:54\n",
      "END OF EPISODE 2 of 20\n",
      "episode end time:  Saturday, March 19, 2022 09:17:54\n",
      "episode time duration:  0:00:00.132992\n",
      "End 2/20 episodes at Saturday, March 19, 2022 09:17:54 for a total of 0:00:00.132992 with the following balance of trades -2.0793604905544396 \n",
      "_____________________________________________\n",
      "epmod:  2\n",
      "episodes:  20\n",
      "False\n",
      "False\n",
      "False\n",
      "_____________________________________________\n",
      "START EPISODE 3 of 20\n",
      "episode start time:  Saturday, March 19, 2022 09:17:54\n",
      "END OF EPISODE 3 of 20\n",
      "episode end time:  Saturday, March 19, 2022 09:17:54\n",
      "episode time duration:  0:00:00.112012\n",
      "End 3/20 episodes at Saturday, March 19, 2022 09:17:54 for a total of 0:00:00.112012 with the following balance of trades -2.0793604905544396 \n",
      "_____________________________________________\n",
      "epmod:  3\n",
      "episodes:  20\n",
      "False\n",
      "False\n",
      "False\n",
      "_____________________________________________\n",
      "START EPISODE 4 of 20\n",
      "episode start time:  Saturday, March 19, 2022 09:18:21\n",
      "END OF EPISODE 4 of 20\n",
      "episode end time:  Saturday, March 19, 2022 09:18:21\n",
      "episode time duration:  0:00:00.108053\n",
      "End 4/20 episodes at Saturday, March 19, 2022 09:18:21 for a total of 0:00:00.108053 with the following balance of trades -2.953188753329667 \n",
      "_____________________________________________\n",
      "epmod:  4\n",
      "episodes:  20\n",
      "False\n",
      "False\n",
      "False\n",
      "_____________________________________________\n",
      "START EPISODE 5 of 20\n",
      "episode start time:  Saturday, March 19, 2022 09:18:53\n",
      "END OF EPISODE 5 of 20\n",
      "episode end time:  Saturday, March 19, 2022 09:18:53\n",
      "episode time duration:  0:00:00.109003\n",
      "End 5/20 episodes at Saturday, March 19, 2022 09:18:53 for a total of 0:00:00.109003 with the following balance of trades -3.742859230020068 \n",
      "_____________________________________________\n",
      "epmod:  5\n",
      "episodes:  20\n",
      "False\n",
      "False\n",
      "False\n",
      "_____________________________________________\n",
      "START EPISODE 6 of 20\n",
      "episode start time:  Saturday, March 19, 2022 09:19:18\n",
      "END OF EPISODE 6 of 20\n",
      "episode end time:  Saturday, March 19, 2022 09:19:18\n",
      "episode time duration:  0:00:00.100040\n",
      "End 6/20 episodes at Saturday, March 19, 2022 09:19:18 for a total of 0:00:00.100040 with the following balance of trades -3.981139571180254 \n",
      "_____________________________________________\n",
      "epmod:  6\n",
      "episodes:  20\n",
      "False\n",
      "False\n",
      "False\n",
      "_____________________________________________\n",
      "START EPISODE 7 of 20\n",
      "episode start time:  Saturday, March 19, 2022 09:19:48\n",
      "END OF EPISODE 7 of 20\n",
      "episode end time:  Saturday, March 19, 2022 09:19:48\n",
      "episode time duration:  0:00:00.125003\n",
      "End 7/20 episodes at Saturday, March 19, 2022 09:19:48 for a total of 0:00:00.125003 with the following balance of trades -6.228380466198731 \n",
      "_____________________________________________\n",
      "epmod:  7\n",
      "episodes:  20\n",
      "False\n",
      "False\n",
      "False\n",
      "_____________________________________________\n",
      "START EPISODE 8 of 20\n",
      "episode start time:  Saturday, March 19, 2022 09:20:18\n",
      "END OF EPISODE 8 of 20\n",
      "episode end time:  Saturday, March 19, 2022 09:20:18\n",
      "episode time duration:  0:00:00.110000\n",
      "End 8/20 episodes at Saturday, March 19, 2022 09:20:18 for a total of 0:00:00.110000 with the following balance of trades -10.163144394436612 \n",
      "_____________________________________________\n",
      "epmod:  8\n",
      "episodes:  20\n",
      "False\n",
      "False\n",
      "False\n",
      "_____________________________________________\n",
      "START EPISODE 9 of 20\n",
      "episode start time:  Saturday, March 19, 2022 09:21:14\n",
      "END OF EPISODE 9 of 20\n",
      "episode end time:  Saturday, March 19, 2022 09:21:14\n",
      "episode time duration:  0:00:00.134000\n",
      "End 9/20 episodes at Saturday, March 19, 2022 09:21:14 for a total of 0:00:00.134000 with the following balance of trades -17.604446804481697 \n",
      "_____________________________________________\n",
      "epmod:  9\n",
      "episodes:  20\n",
      "False\n",
      "False\n",
      "False\n",
      "_____________________________________________\n",
      "START EPISODE 10 of 20\n",
      "episode start time:  Saturday, March 19, 2022 09:21:53\n",
      "END OF EPISODE 10 of 20\n",
      "episode end time:  Saturday, March 19, 2022 09:21:54\n",
      "episode time duration:  0:00:00.225002\n",
      "End 10/20 episodes at Saturday, March 19, 2022 09:21:53 for a total of 0:00:00.225002 with the following balance of trades -17.82649104537282 \n",
      "_____________________________________________\n",
      "epmod:  0\n",
      "episodes:  20\n",
      "False\n",
      "True\n",
      "False\n",
      "_____________________________________________\n",
      "START EPISODE 11 of 20\n",
      "episode start time:  Saturday, March 19, 2022 09:22:35\n",
      "END OF EPISODE 11 of 20\n",
      "episode end time:  Saturday, March 19, 2022 09:22:36\n",
      "episode time duration:  0:00:00.109997\n",
      "End 11/20 episodes at Saturday, March 19, 2022 09:22:35 for a total of 0:00:00.109997 with the following balance of trades -18.56171427181421 \n",
      "_____________________________________________\n",
      "epmod:  1\n",
      "episodes:  20\n",
      "False\n",
      "False\n",
      "False\n",
      "_____________________________________________\n",
      "START EPISODE 12 of 20\n",
      "episode start time:  Saturday, March 19, 2022 09:23:17\n",
      "END OF EPISODE 12 of 20\n",
      "episode end time:  Saturday, March 19, 2022 09:23:17\n",
      "episode time duration:  0:00:00.095983\n",
      "End 12/20 episodes at Saturday, March 19, 2022 09:23:17 for a total of 0:00:00.095983 with the following balance of trades -18.56171427181421 \n",
      "_____________________________________________\n",
      "epmod:  2\n",
      "episodes:  20\n",
      "False\n",
      "False\n",
      "False\n",
      "_____________________________________________\n",
      "START EPISODE 13 of 20\n",
      "episode start time:  Saturday, March 19, 2022 09:24:00\n",
      "END OF EPISODE 13 of 20\n",
      "episode end time:  Saturday, March 19, 2022 09:24:00\n",
      "episode time duration:  0:00:00.101042\n",
      "End 13/20 episodes at Saturday, March 19, 2022 09:24:00 for a total of 0:00:00.101042 with the following balance of trades -16.07865462305235 \n",
      "_____________________________________________\n",
      "epmod:  3\n",
      "episodes:  20\n",
      "False\n",
      "False\n",
      "False\n",
      "_____________________________________________\n",
      "START EPISODE 14 of 20\n",
      "episode start time:  Saturday, March 19, 2022 09:24:48\n",
      "END OF EPISODE 14 of 20\n",
      "episode end time:  Saturday, March 19, 2022 09:24:49\n",
      "episode time duration:  0:00:00.113000\n",
      "End 14/20 episodes at Saturday, March 19, 2022 09:24:48 for a total of 0:00:00.113000 with the following balance of trades -19.060289377970854 \n",
      "_____________________________________________\n",
      "epmod:  4\n",
      "episodes:  20\n",
      "False\n",
      "False\n",
      "False\n",
      "_____________________________________________\n",
      "START EPISODE 15 of 20\n",
      "episode start time:  Saturday, March 19, 2022 09:25:37\n",
      "END OF EPISODE 15 of 20\n",
      "episode end time:  Saturday, March 19, 2022 09:25:37\n",
      "episode time duration:  0:00:00.096043\n",
      "End 15/20 episodes at Saturday, March 19, 2022 09:25:37 for a total of 0:00:00.096043 with the following balance of trades -19.060289377970854 \n",
      "_____________________________________________\n",
      "epmod:  5\n",
      "episodes:  20\n",
      "False\n",
      "False\n",
      "False\n",
      "_____________________________________________\n",
      "START EPISODE 16 of 20\n",
      "episode start time:  Saturday, March 19, 2022 09:26:27\n",
      "END OF EPISODE 16 of 20\n",
      "episode end time:  Saturday, March 19, 2022 09:26:27\n",
      "episode time duration:  0:00:00.117000\n",
      "End 16/20 episodes at Saturday, March 19, 2022 09:26:27 for a total of 0:00:00.117000 with the following balance of trades -19.9856591388653 \n",
      "_____________________________________________\n",
      "epmod:  6\n",
      "episodes:  20\n",
      "False\n",
      "False\n",
      "False\n",
      "_____________________________________________\n",
      "START EPISODE 17 of 20\n",
      "episode start time:  Saturday, March 19, 2022 09:27:22\n",
      "END OF EPISODE 17 of 20\n",
      "episode end time:  Saturday, March 19, 2022 09:27:22\n",
      "episode time duration:  0:00:00.127001\n",
      "End 17/20 episodes at Saturday, March 19, 2022 09:27:22 for a total of 0:00:00.127001 with the following balance of trades -21.37023581599951 \n",
      "_____________________________________________\n",
      "epmod:  7\n",
      "episodes:  20\n",
      "False\n",
      "False\n",
      "False\n",
      "_____________________________________________\n",
      "START EPISODE 18 of 20\n",
      "episode start time:  Saturday, March 19, 2022 09:28:41\n",
      "END OF EPISODE 18 of 20\n",
      "episode end time:  Saturday, March 19, 2022 09:28:42\n",
      "episode time duration:  0:00:00.206006\n",
      "End 18/20 episodes at Saturday, March 19, 2022 09:28:41 for a total of 0:00:00.206006 with the following balance of trades -21.37023581599951 \n",
      "_____________________________________________\n",
      "epmod:  8\n",
      "episodes:  20\n",
      "False\n",
      "False\n",
      "False\n",
      "_____________________________________________\n",
      "START EPISODE 19 of 20\n",
      "episode start time:  Saturday, March 19, 2022 09:30:31\n",
      "END OF EPISODE 19 of 20\n",
      "episode end time:  Saturday, March 19, 2022 09:30:31\n",
      "episode time duration:  0:00:00.129996\n",
      "End 19/20 episodes at Saturday, March 19, 2022 09:30:31 for a total of 0:00:00.129996 with the following balance of trades -21.82301301731006 \n",
      "_____________________________________________\n",
      "epmod:  9\n",
      "episodes:  20\n",
      "False\n",
      "False\n",
      "False\n",
      "_____________________________________________\n",
      "START EPISODE 20 of 20\n",
      "episode start time:  Saturday, March 19, 2022 09:32:30\n",
      "END OF EPISODE 20 of 20\n",
      "episode end time:  Saturday, March 19, 2022 09:32:30\n",
      "episode time duration:  0:00:00.379024\n",
      "End 20/20 episodes at Saturday, March 19, 2022 09:32:30 for a total of 0:00:00.379024 with the following balance of trades -23.87789269212624 \n",
      "_____________________________________________\n",
      "epmod:  0\n",
      "episodes:  20\n",
      "False\n",
      "True\n",
      "True\n",
      "Wall time: 16min 20s\n"
     ]
    }
   ],
   "source": [
    "%time agent.learn(episodes)"
   ]
  },
  {
   "cell_type": "code",
   "execution_count": 45,
   "metadata": {},
   "outputs": [
    {
     "name": "stdout",
     "output_type": "stream",
     "text": [
      "length of arrayBalanceOfTrades: 85\n"
     ]
    }
   ],
   "source": [
    "print(f'length of arrayBalanceOfTrades: {len(agent.arrayBalanceOfTrades)}')"
   ]
  },
  {
   "cell_type": "code",
   "execution_count": 46,
   "metadata": {},
   "outputs": [
    {
     "data": {
      "text/plain": [
       "<function matplotlib.pyplot.show(close=None, block=None)>"
      ]
     },
     "execution_count": 46,
     "metadata": {},
     "output_type": "execute_result"
    },
    {
     "data": {
      "image/png": "[encoded data removed]",
      "text/plain": [
       "<Figure size 576x396 with 1 Axes>"
      ]
     },
     "metadata": {},
     "output_type": "display_data"
    }
   ],
   "source": [
    "plt.plot(agent.arrayBalanceOfTrades)\n",
    "plt.show"
   ]
  },
  {
   "cell_type": "code",
   "execution_count": 47,
   "metadata": {},
   "outputs": [
    {
     "name": "stdout",
     "output_type": "stream",
     "text": [
      "average of arrayBalanceOfTrades:  -12.637086296451265\n"
     ]
    }
   ],
   "source": [
    "print('average of arrayBalanceOfTrades: ', sum(agent.arrayBalanceOfTrades)/len(agent.arrayBalanceOfTrades))"
   ]
  },
  {
   "cell_type": "code",
   "execution_count": 48,
   "metadata": {},
   "outputs": [
    {
     "name": "stdout",
     "output_type": "stream",
     "text": [
      "sum of arrayBalanceOfTrades:  -1074.1523351983576\n"
     ]
    }
   ],
   "source": [
    "print('sum of arrayBalanceOfTrades: ', sum(agent.arrayBalanceOfTrades))"
   ]
  },
  {
   "cell_type": "code",
   "execution_count": 49,
   "metadata": {},
   "outputs": [],
   "source": [
    "# pl"
   ]
  },
  {
   "cell_type": "code",
   "execution_count": 50,
   "metadata": {},
   "outputs": [
    {
     "name": "stdout",
     "output_type": "stream",
     "text": [
      "sum:  -1074.1523351983576\n"
     ]
    }
   ],
   "source": [
    "# pl.cumsum()\n",
    "print('sum: ', sum(agent.arrayBalanceOfTrades))\n"
   ]
  },
  {
   "cell_type": "code",
   "execution_count": 51,
   "metadata": {},
   "outputs": [
    {
     "data": {
      "image/png": "[encoded data removed]",
      "text/plain": [
       "<Figure size 720x432 with 1 Axes>"
      ]
     },
     "metadata": {},
     "output_type": "display_data"
    }
   ],
   "source": [
    "agent.plot_totalReward()"
   ]
  },
  {
   "cell_type": "code",
   "execution_count": 52,
   "metadata": {},
   "outputs": [
    {
     "data": {
      "image/png": "[encoded data removed]",
      "text/plain": [
       "<Figure size 720x432 with 1 Axes>"
      ]
     },
     "metadata": {},
     "output_type": "display_data"
    }
   ],
   "source": [
    "agent.a_plot_performance()"
   ]
  },
  {
   "cell_type": "code",
   "execution_count": 53,
   "metadata": {},
   "outputs": [
    {
     "data": {
      "text/plain": [
       "[-2.7398731268871357,\n",
       " -1.4964104075551479,\n",
       " -1.1178564887790097,\n",
       " -0.7863614031812245,\n",
       " -1.0676134631449141,\n",
       " -0.8334202363595751,\n",
       " -3.416940876243131,\n",
       " -2.173478156911143,\n",
       " -1.7949242381350048,\n",
       " -2.12641932373279,\n",
       " -1.8451672637691006,\n",
       " -2.0793604905544396,\n",
       " -1.7097260339976772,\n",
       " -2.9531887533296652,\n",
       " -3.331742672105803,\n",
       " -3.000247586508018,\n",
       " -2.718995526544328,\n",
       " -2.953188753329667,\n",
       " -3.1623866818836524,\n",
       " -4.40584940121564,\n",
       " -4.027295482439502,\n",
       " -3.695800396841717,\n",
       " -3.977052456805407,\n",
       " -3.742859230020068,\n",
       " -3.934080738001904,\n",
       " -4.215332797965593,\n",
       " -3.981139571180254,\n",
       " -6.909339065603337,\n",
       " -5.665876346271349,\n",
       " -6.044430265047487,\n",
       " -5.712935179449702,\n",
       " -5.9941872394133915,\n",
       " -6.228380466198731,\n",
       " -8.256691503909051,\n",
       " -9.50015422324104,\n",
       " -9.878708142017178,\n",
       " -10.210203227614963,\n",
       " -9.928951167651274,\n",
       " -10.163144394436612,\n",
       " -15.135489794026752,\n",
       " -16.37895251335874,\n",
       " -16.75750643213488,\n",
       " -17.089001517732665,\n",
       " -17.370253577696356,\n",
       " -17.604446804481697,\n",
       " -18.817792109710435,\n",
       " -18.439238190934297,\n",
       " -18.10774310533651,\n",
       " -17.82649104537282,\n",
       " -19.99978070877109,\n",
       " -18.756317989439104,\n",
       " -18.377764070662966,\n",
       " -18.04626898506518,\n",
       " -18.32752104502887,\n",
       " -18.56171427181421,\n",
       " -16.125713456230702,\n",
       " -15.747159537454564,\n",
       " -16.07865462305235,\n",
       " -17.816826658638867,\n",
       " -19.060289377970854,\n",
       " -19.43884329674699,\n",
       " -19.107348211149205,\n",
       " -18.826096151185514,\n",
       " -19.060289377970854,\n",
       " -19.210582873103995,\n",
       " -20.454045592435982,\n",
       " -20.83259951121212,\n",
       " -20.501104425614333,\n",
       " -20.21985236565064,\n",
       " -19.9856591388653,\n",
       " -23.370806372883774,\n",
       " -22.127343653551787,\n",
       " -21.74878973477565,\n",
       " -21.41729464917786,\n",
       " -21.13604258921417,\n",
       " -21.37023581599951,\n",
       " -21.112964012936136,\n",
       " -21.491517931712274,\n",
       " -21.82301301731006,\n",
       " -24.458365240262655,\n",
       " -23.214902520930668,\n",
       " -23.593456439706806,\n",
       " -23.924951525304593,\n",
       " -23.6436994653409,\n",
       " -23.87789269212624]"
      ]
     },
     "execution_count": 53,
     "metadata": {},
     "output_type": "execute_result"
    }
   ],
   "source": [
    "agent.arrayBalanceOfTrades"
   ]
  },
  {
   "cell_type": "code",
   "execution_count": null,
   "metadata": {},
   "outputs": [],
   "source": []
  },
  {
   "cell_type": "code",
   "execution_count": null,
   "metadata": {},
   "outputs": [],
   "source": []
  },
  {
   "cell_type": "code",
   "execution_count": null,
   "metadata": {},
   "outputs": [],
   "source": []
  },
  {
   "cell_type": "code",
   "execution_count": null,
   "metadata": {},
   "outputs": [],
   "source": []
  },
  {
   "cell_type": "code",
   "execution_count": null,
   "metadata": {},
   "outputs": [],
   "source": []
  },
  {
   "cell_type": "code",
   "execution_count": 2,
   "metadata": {},
   "outputs": [],
   "source": [
    "pklFile = 'addedFeaturesToNormalized_USD_JPY_2021-01-01_to_2021-12-31_M1_A.pkl'"
   ]
  },
  {
   "cell_type": "code",
   "execution_count": 4,
   "metadata": {},
   "outputs": [],
   "source": [
    "dfpkl = pd.read_pickle(pklFile)"
   ]
  },
  {
   "cell_type": "code",
   "execution_count": 5,
   "metadata": {},
   "outputs": [
    {
     "data": {
      "text/html": [
       "<div>\n",
       "<style scoped>\n",
       "    .dataframe tbody tr th:only-of-type {\n",
       "        vertical-align: middle;\n",
       "    }\n",
       "\n",
       "    .dataframe tbody tr th {\n",
       "        vertical-align: top;\n",
       "    }\n",
       "\n",
       "    .dataframe thead th {\n",
       "        text-align: right;\n",
       "    }\n",
       "</style>\n",
       "<table border=\"1\" class=\"dataframe\">\n",
       "  <thead>\n",
       "    <tr style=\"text-align: right;\">\n",
       "      <th></th>\n",
       "      <th>o</th>\n",
       "      <th>h</th>\n",
       "      <th>l</th>\n",
       "      <th>c</th>\n",
       "      <th>volume</th>\n",
       "      <th>r</th>\n",
       "      <th>sma</th>\n",
       "      <th>min</th>\n",
       "      <th>max</th>\n",
       "      <th>mom</th>\n",
       "      <th>...</th>\n",
       "      <th>std_lag_1</th>\n",
       "      <th>std_lag_2</th>\n",
       "      <th>std_lag_3</th>\n",
       "      <th>std_lag_4</th>\n",
       "      <th>std_lag_5</th>\n",
       "      <th>d_lag_1</th>\n",
       "      <th>d_lag_2</th>\n",
       "      <th>d_lag_3</th>\n",
       "      <th>d_lag_4</th>\n",
       "      <th>d_lag_5</th>\n",
       "    </tr>\n",
       "    <tr>\n",
       "      <th>time</th>\n",
       "      <th></th>\n",
       "      <th></th>\n",
       "      <th></th>\n",
       "      <th></th>\n",
       "      <th></th>\n",
       "      <th></th>\n",
       "      <th></th>\n",
       "      <th></th>\n",
       "      <th></th>\n",
       "      <th></th>\n",
       "      <th></th>\n",
       "      <th></th>\n",
       "      <th></th>\n",
       "      <th></th>\n",
       "      <th></th>\n",
       "      <th></th>\n",
       "      <th></th>\n",
       "      <th></th>\n",
       "      <th></th>\n",
       "      <th></th>\n",
       "      <th></th>\n",
       "    </tr>\n",
       "  </thead>\n",
       "  <tbody>\n",
       "    <tr>\n",
       "      <th>2021-01-03 23:01:00</th>\n",
       "      <td>0.05139</td>\n",
       "      <td>0.05093</td>\n",
       "      <td>0.04971</td>\n",
       "      <td>0.04954</td>\n",
       "      <td>0.38009</td>\n",
       "      <td>-0.03536</td>\n",
       "      <td>0.05162</td>\n",
       "      <td>0.04954</td>\n",
       "      <td>0.05412</td>\n",
       "      <td>-0.00116</td>\n",
       "      <td>...</td>\n",
       "      <td>0.02069</td>\n",
       "      <td>0.02049</td>\n",
       "      <td>0.02135</td>\n",
       "      <td>0.02087</td>\n",
       "      <td>0.03007</td>\n",
       "      <td>1.00000</td>\n",
       "      <td>1.00000</td>\n",
       "      <td>0.00000</td>\n",
       "      <td>0.00000</td>\n",
       "      <td>0.00000</td>\n",
       "    </tr>\n",
       "    <tr>\n",
       "      <th>2021-01-03 23:02:00</th>\n",
       "      <td>0.04991</td>\n",
       "      <td>0.04946</td>\n",
       "      <td>0.05018</td>\n",
       "      <td>0.04978</td>\n",
       "      <td>0.19790</td>\n",
       "      <td>0.00468</td>\n",
       "      <td>0.05160</td>\n",
       "      <td>0.04954</td>\n",
       "      <td>0.05412</td>\n",
       "      <td>-0.00031</td>\n",
       "      <td>...</td>\n",
       "      <td>0.02209</td>\n",
       "      <td>0.02069</td>\n",
       "      <td>0.02049</td>\n",
       "      <td>0.02135</td>\n",
       "      <td>0.02087</td>\n",
       "      <td>0.00000</td>\n",
       "      <td>1.00000</td>\n",
       "      <td>1.00000</td>\n",
       "      <td>0.00000</td>\n",
       "      <td>0.00000</td>\n",
       "    </tr>\n",
       "    <tr>\n",
       "      <th>2021-01-03 23:03:00</th>\n",
       "      <td>0.04976</td>\n",
       "      <td>0.05054</td>\n",
       "      <td>0.05010</td>\n",
       "      <td>0.05063</td>\n",
       "      <td>0.38009</td>\n",
       "      <td>0.01699</td>\n",
       "      <td>0.05160</td>\n",
       "      <td>0.04954</td>\n",
       "      <td>0.05412</td>\n",
       "      <td>0.00000</td>\n",
       "      <td>...</td>\n",
       "      <td>0.02197</td>\n",
       "      <td>0.02209</td>\n",
       "      <td>0.02069</td>\n",
       "      <td>0.02049</td>\n",
       "      <td>0.02135</td>\n",
       "      <td>1.00000</td>\n",
       "      <td>0.00000</td>\n",
       "      <td>1.00000</td>\n",
       "      <td>1.00000</td>\n",
       "      <td>0.00000</td>\n",
       "    </tr>\n",
       "    <tr>\n",
       "      <th>2021-01-03 23:04:00</th>\n",
       "      <td>0.05069</td>\n",
       "      <td>0.05039</td>\n",
       "      <td>0.05064</td>\n",
       "      <td>0.05009</td>\n",
       "      <td>0.37437</td>\n",
       "      <td>-0.01078</td>\n",
       "      <td>0.05161</td>\n",
       "      <td>0.04954</td>\n",
       "      <td>0.05412</td>\n",
       "      <td>0.00008</td>\n",
       "      <td>...</td>\n",
       "      <td>0.02218</td>\n",
       "      <td>0.02197</td>\n",
       "      <td>0.02209</td>\n",
       "      <td>0.02069</td>\n",
       "      <td>0.02049</td>\n",
       "      <td>1.00000</td>\n",
       "      <td>1.00000</td>\n",
       "      <td>0.00000</td>\n",
       "      <td>1.00000</td>\n",
       "      <td>1.00000</td>\n",
       "    </tr>\n",
       "    <tr>\n",
       "      <th>2021-01-03 23:05:00</th>\n",
       "      <td>0.04999</td>\n",
       "      <td>0.05039</td>\n",
       "      <td>0.05049</td>\n",
       "      <td>0.05032</td>\n",
       "      <td>0.32451</td>\n",
       "      <td>0.00463</td>\n",
       "      <td>0.05159</td>\n",
       "      <td>0.04954</td>\n",
       "      <td>0.05412</td>\n",
       "      <td>-0.00038</td>\n",
       "      <td>...</td>\n",
       "      <td>0.02213</td>\n",
       "      <td>0.02218</td>\n",
       "      <td>0.02197</td>\n",
       "      <td>0.02209</td>\n",
       "      <td>0.02069</td>\n",
       "      <td>0.00000</td>\n",
       "      <td>1.00000</td>\n",
       "      <td>1.00000</td>\n",
       "      <td>0.00000</td>\n",
       "      <td>1.00000</td>\n",
       "    </tr>\n",
       "  </tbody>\n",
       "</table>\n",
       "<p>5 rows × 72 columns</p>\n",
       "</div>"
      ],
      "text/plain": [
       "                          o       h       l       c  volume        r     sma  \\\n",
       "time                                                                           \n",
       "2021-01-03 23:01:00 0.05139 0.05093 0.04971 0.04954 0.38009 -0.03536 0.05162   \n",
       "2021-01-03 23:02:00 0.04991 0.04946 0.05018 0.04978 0.19790  0.00468 0.05160   \n",
       "2021-01-03 23:03:00 0.04976 0.05054 0.05010 0.05063 0.38009  0.01699 0.05160   \n",
       "2021-01-03 23:04:00 0.05069 0.05039 0.05064 0.05009 0.37437 -0.01078 0.05161   \n",
       "2021-01-03 23:05:00 0.04999 0.05039 0.05049 0.05032 0.32451  0.00463 0.05159   \n",
       "\n",
       "                        min     max      mom  ...  std_lag_1  std_lag_2  \\\n",
       "time                                          ...                         \n",
       "2021-01-03 23:01:00 0.04954 0.05412 -0.00116  ...    0.02069    0.02049   \n",
       "2021-01-03 23:02:00 0.04954 0.05412 -0.00031  ...    0.02209    0.02069   \n",
       "2021-01-03 23:03:00 0.04954 0.05412  0.00000  ...    0.02197    0.02209   \n",
       "2021-01-03 23:04:00 0.04954 0.05412  0.00008  ...    0.02218    0.02197   \n",
       "2021-01-03 23:05:00 0.04954 0.05412 -0.00038  ...    0.02213    0.02218   \n",
       "\n",
       "                     std_lag_3  std_lag_4  std_lag_5  d_lag_1  d_lag_2  \\\n",
       "time                                                                     \n",
       "2021-01-03 23:01:00    0.02135    0.02087    0.03007  1.00000  1.00000   \n",
       "2021-01-03 23:02:00    0.02049    0.02135    0.02087  0.00000  1.00000   \n",
       "2021-01-03 23:03:00    0.02069    0.02049    0.02135  1.00000  0.00000   \n",
       "2021-01-03 23:04:00    0.02209    0.02069    0.02049  1.00000  1.00000   \n",
       "2021-01-03 23:05:00    0.02197    0.02209    0.02069  0.00000  1.00000   \n",
       "\n",
       "                     d_lag_3  d_lag_4  d_lag_5  \n",
       "time                                            \n",
       "2021-01-03 23:01:00  0.00000  0.00000  0.00000  \n",
       "2021-01-03 23:02:00  1.00000  0.00000  0.00000  \n",
       "2021-01-03 23:03:00  1.00000  1.00000  0.00000  \n",
       "2021-01-03 23:04:00  0.00000  1.00000  1.00000  \n",
       "2021-01-03 23:05:00  1.00000  0.00000  1.00000  \n",
       "\n",
       "[5 rows x 72 columns]"
      ]
     },
     "execution_count": 5,
     "metadata": {},
     "output_type": "execute_result"
    }
   ],
   "source": [
    "dfpkl.head()"
   ]
  },
  {
   "cell_type": "code",
   "execution_count": null,
   "metadata": {},
   "outputs": [],
   "source": []
  }
 ],
 "metadata": {
  "environment": {
   "name": "tf2-gpu.2-6.m79",
   "type": "gcloud",
   "uri": "gcr.io/deeplearning-platform-release/tf2-gpu.2-6:m79"
  },
  "kernelspec": {
   "display_name": "Python 3 (ipykernel)",
   "language": "python",
   "name": "python3"
  },
  "language_info": {
   "codemirror_mode": {
    "name": "ipython",
    "version": 3
   },
   "file_extension": ".py",
   "mimetype": "text/x-python",
   "name": "python",
   "nbconvert_exporter": "python",
   "pygments_lexer": "ipython3",
   "version": "3.8.11"
  }
 },
 "nbformat": 4,
 "nbformat_minor": 4
}